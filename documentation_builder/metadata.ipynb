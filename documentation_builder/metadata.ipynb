{
 "nbformat": 4,
 "nbformat_minor": 0,
 "metadata": {
  "kernelspec": {
   "display_name": "Python 3",
   "language": "python",
   "name": "python3"
  },
  "language_info": {
   "codemirror_mode": {
    "name": "ipython",
    "version": 3
   },
   "file_extension": ".py",
   "mimetype": "text/x-python",
   "name": "python",
   "nbconvert_exporter": "python",
   "pygments_lexer": "ipython3",
   "version": "3.6.0"
  },
  "colab": {
   "name": "metadata.ipynb",
   "provenance": []
  }
 },
 "cells": [
  {
   "cell_type": "markdown",
   "metadata": {
    "id": "bVgYSbcPLbwU",
    "colab_type": "text"
   },
   "source": [
    "# Metadata\n",
    "\n",
    "Metadata in the form of annotations, provenance or additional key:value pairs is an important asset for a model.\n",
    "Such data can be handled via the `annotation` field on cobra objects"
   ]
  },
  {
   "cell_type": "markdown",
   "metadata": {
    "id": "Rv-QKmAPM8PY",
    "colab_type": "text",
    "pycharm": {
     "name": "#%% md\n"
    }
   },
   "source": [
    "# History\n",
    "\n",
    "History attribute, present in the `annotation` attribute of a COBRA component, stores the history of the component like creators, created date and modified date of that component."
   ]
  },
  {
   "cell_type": "code",
   "metadata": {
    "pycharm": {
     "name": "#%%\n"
    },
    "id": "EsBAtYeHLbwc",
    "colab_type": "code",
    "colab": {}
   },
   "source": [
    "from cobra.core import Metabolite\n",
    "from cobra.core.metadata import History, Creator, HistoryDatetime\n",
    "\n",
    "metabolite = Metabolite(id=\"glc\", name=\"D-glucose\")\n"
   ],
   "execution_count": null,
   "outputs": []
  },
  {
   "cell_type": "markdown",
   "source": [
    "The dates have to be objects of `HistoryDateTime` class and creators that of `Creator` class. We can add then directly via constructor."
   ],
   "metadata": {
    "collapsed": false
   }
  },
  {
   "cell_type": "code",
   "execution_count": null,
   "outputs": [],
   "source": [
    "history = History(\n",
    "        creators=[\n",
    "            Creator(\n",
    "                first_name=\"Matthias\",\n",
    "                last_name=\"Koenig\",\n",
    "                organization_name=\"HU\",\n",
    "                email=\"test@test.com\",\n",
    "            ),\n",
    "        ],\n",
    "        created_date=HistoryDatetime(\"2020-06-26T02:34:30+05:30\"),\n",
    "        modified_dates=[\n",
    "            HistoryDatetime(\"2020-06-26T12:34:11+00:00\"),\n",
    "            HistoryDatetime(\"2020-06-26T00:34:11+05:30\"),\n",
    "        ],\n",
    "    )\n",
    "\n",
    "metabolite.annotation.history = history"
   ],
   "metadata": {
    "collapsed": false,
    "pycharm": {
     "name": "#%%\n"
    }
   }
  },
  {
   "cell_type": "markdown",
   "source": [
    "Or we can also add them by making object separtely and then adding in the history object."
   ],
   "metadata": {
    "collapsed": false
   }
  },
  {
   "cell_type": "code",
   "execution_count": null,
   "outputs": [],
   "source": [
    "new_creator = Creator(\n",
    "                first_name=\"Andreas\",\n",
    "                last_name=\"Draeger\",\n",
    "                organization_name=\"University of Tübingen\",\n",
    "                email=\"test2@test2.com\",\n",
    "            )\n",
    "\n",
    "metabolite.annotation.history.creators.append(new_creator)\n",
    "modified_hdtime  = HistoryDatetime()\n",
    "modified_hdtime.utcnow()\n",
    "metabolite.annotation.history.modified_dates.append(modified_hdtime)"
   ],
   "metadata": {
    "collapsed": false,
    "pycharm": {
     "name": "#%%\n"
    }
   }
  },
  {
   "cell_type": "markdown",
   "source": [
    "# CVTerms\n",
    "\n",
    "CVTerms stands for Controlled Vocabulary Terms, are is used to store the external resources which are linked with the given COBRA component. We can make CVTerm's object either by passing the data directly from the constructor. We can also define the nested data for linked resources."
   ],
   "metadata": {
    "collapsed": false
   }
  },
  {
   "cell_type": "code",
   "execution_count": null,
   "outputs": [],
   "source": [
    "annotation_dict = {\n",
    "    \"bqb_hasTaxon\": [{\"resources\": [\"http://identifiers.org/taxonomy/511145\"]}],\n",
    "    \"bqm_is\": [\n",
    "        {\n",
    "            \"nested_data\": {\n",
    "                \"bqb_isDescribedBy\": [\n",
    "                    {\"resources\": [\"https://identifiers.org/pubmed/1111111\"]},\n",
    "                    {\"resources\": [\"https://identifiers.org/eco/ECO:0000004\"]},\n",
    "                ]\n",
    "            },\n",
    "            \"resources\": [\"http://identifiers.org/bigg.model/e_coli_core\"],\n",
    "        }\n",
    "    ],\n",
    "}\n",
    "\n",
    "cvterms = CVTerms(annotation_dict)\n",
    "metabolite.annotation.cvterms = cvterms\n",
    "\n"
   ],
   "metadata": {
    "collapsed": false,
    "pycharm": {
     "name": "#%%\n"
    }
   }
  },
  {
   "cell_type": "markdown",
   "source": [
    "Or we can also add data by making separate `CVTerm` objects and then adding them at a particular index (indexing is done for a single qualifier for adding alternative annotation)."
   ],
   "metadata": {
    "collapsed": false
   }
  },
  {
   "cell_type": "code",
   "execution_count": null,
   "outputs": [],
   "source": [
    "cvterm1 = CVTerm(Qualifier.bqb_isDescribedBy, \"http://identifiers.org/doi/10.1128/ecosalplus.10.2.1\")\n",
    "cvterm2 = CVTerm(Qualifier.bqb_isDescribedBy, \"http://identifiers.org/ncbigi/gi:16128336\")\n",
    "\n",
    "metabolite.annotation.cvterms.add_cvterm(cvterm1, 0)\n",
    "metabolite.annotation.cvterms.add_cvterm(cvterm1, 1)"
   ],
   "metadata": {
    "collapsed": false,
    "pycharm": {
     "name": "#%%\n"
    }
   }
  },
  {
   "cell_type": "markdown",
   "source": [
    "# KeyValuePairs\n",
    "\n",
    "The KeyValuePair class is used for storing any type of key-value pair data, which is not suitable to store anywhere else in the model"
   ],
   "metadata": {
    "collapsed": false
   }
  },
  {
   "cell_type": "code",
   "execution_count": null,
   "outputs": [],
   "source": [
    "    entry1 = {\n",
    "        \"id\": \"id1\",\n",
    "        \"name\": \"abc_xyz\",\n",
    "        \"key\": \"key1\",\n",
    "        \"value\": \"45\",\n",
    "        \"uri\": \"https://tinyurl.com/ybyr7b62\",\n",
    "    }\n",
    "    entry2 = KeyValueEntry.from_data({\n",
    "        \"id\": \"id2\",\n",
    "        \"name\": \"abc_xyz2\",\n",
    "        \"key\": \"key2\",\n",
    "        \"value\": \"48\",\n",
    "        \"uri\": \"https://tinyurl2.com/ybyr7b62\",\n",
    "    })\n",
    "\n",
    "    kvp = KeyValuePairs(entries=[entry1, entry2])\n",
    "    metabolite.annotation.keyvaluepairs = kvp"
   ],
   "metadata": {
    "collapsed": false,
    "pycharm": {
     "name": "#%%\n"
    }
   }
  },
  {
   "cell_type": "markdown",
   "source": [
    "# Notes\n",
    "The `notes` field under a COBRA component is used to store the notes data. Though it is not a right place to store key-value pairs, but earlier implementation has left many models where notes field have key-value pairs inside it. The current implementation contains a notes string as well as a notes dictionary, both synchronized with each other. One can only update values inside the notes dictioanry, adding new key-value pairs is restricted. Updating the dictionary will update the notes string also (only the key-value pair part). String manipulation, if required, will have to be done manually."
   ],
   "metadata": {
    "collapsed": false
   }
  },
  {
   "cell_type": "code",
   "execution_count": null,
   "outputs": [],
   "source": [
    "notes_str = (\n",
    "    '\\\n",
    "<notes>\\n\\\n",
    "  <body xmlns=\"http://www.w3.org/1999/xhtml\">\\n\\\n",
    "    <div style=\"height: 60px; background-color: #09F;\">\\n\\\n",
    "      <p> Key1 : Value 1 </p>\\n\\\n",
    "      <p> Key2 : Value2 </p>\\n\\\n",
    "      <div style=\"margin-left: auto; margin-right: auto; '\n",
    "    'width: 970px;\">\\n\\\n",
    "        <h1> A Heading </h1>\\n\\\n",
    "        <div class=\"dc:title\"> e_coli_core - Escherichia coli '\n",
    "    \"str. K-12 substr. MG1655 </div>\\n\\\n",
    "      </div>\\n\\\n",
    "      <p> Key3 : Value 3 </p>\\n\\\n",
    "    </div>\\n\\\n",
    "  </body>\\n\\\n",
    "</notes>\"\n",
    ")\n",
    "\n",
    "metabolite.notes = Notes(notes_str)\n",
    "metabolite.notes[\"Key1\"] = \"New Value1\""
   ],
   "metadata": {
    "collapsed": false,
    "pycharm": {
     "name": "#%%\n"
    }
   }
  },
  {
   "cell_type": "markdown",
   "metadata": {
    "id": "11wwIBGHWM66",
    "colab_type": "text"
   },
   "source": [
    "notes_str = (\n",
    "    '\\\n",
    "<notes>\\n\\\n",
    "  <body xmlns=\"http://www.w3.org/1999/xhtml\">\\n\\\n",
    "    <div style=\"height: 60px; background-color: #09F;\">\\n\\\n",
    "      <p> Key1 : Value 1 </p>\\n\\\n",
    "      <p> Key2 : Value2 </p>\\n\\\n",
    "      <div style=\"margin-left: auto; margin-right: auto; '\n",
    "    'width: 970px;\">\\n\\\n",
    "        <h1> A Heading </h1>\\n\\\n",
    "        <div class=\"dc:title\"> e_coli_core - Escherichia coli '\n",
    "    \"str. K-12 substr. MG1655 </div>\\n\\\n",
    "      </div>\\n\\\n",
    "      <p> Key3 : Value 3 </p>\\n\\\n",
    "    </div>\\n\\\n",
    "  </body>\\n\\\n",
    "</notes>\"\n",
    ")\n",
    "\n",
    "metabolite.notes = Notes(notes_str)\n",
    "metabolite.notes[\"Key1\"] = \"New Value1\""
   ]
  },
  {
   "cell_type": "code",
   "metadata": {
    "id": "Tmo3MUtpWn8K",
    "colab_type": "code",
    "colab": {}
   },
   "source": [
    "history = History(\n",
    "        creators=[\n",
    "            Creator(\n",
    "                first_name=\"Matthias\",\n",
    "                last_name=\"Koenig\",\n",
    "                organization_name=\"HU\",\n",
    "                email=\"test@test.com\",\n",
    "            ),\n",
    "        ],\n",
    "        created_date=HistoryDatetime(\"2020-06-26T02:34:30+05:30\"),\n",
    "        modified_dates=[\n",
    "            HistoryDatetime(\"2020-06-26T12:34:11+00:00\"),\n",
    "            HistoryDatetime(\"2020-06-26T00:34:11+05:30\"),\n",
    "        ],\n",
    "    )\n",
    "\n",
    "metabolite.annotation.history = history"
   ],
   "execution_count": null,
   "outputs": []
  },
  {
   "cell_type": "markdown",
   "metadata": {
    "id": "6EtjXs5FWsB2",
    "colab_type": "text"
   },
   "source": [
    "Or we can also add them by making object separtely and then adding in the history object."
   ]
  },
  {
   "cell_type": "code",
   "metadata": {
    "id": "9tiNKucaW1nT",
    "colab_type": "code",
    "colab": {}
   },
   "source": [
    "new_creator = Creator(\n",
    "                first_name=\"Andreas\",\n",
    "                last_name=\"Draeger\",\n",
    "                organization_name=\"University of Tübingen\",\n",
    "                email=\"test2@test2.com\",\n",
    "            )\n",
    "\n",
    "metabolite.annotation.history.creators.append(new_creator)\n",
    "modified_hdtime  = HistoryDatetime()\n",
    "modified_hdtime.utcnow()\n",
    "metabolite.annotation.history.modified_dates.append(modified_hdtime)"
   ],
   "execution_count": null,
   "outputs": []
  },
  {
   "cell_type": "markdown",
   "metadata": {
    "id": "wXst9A76PuoJ",
    "colab_type": "text"
   },
   "source": [
    "# CVTerms\n",
    "\n",
    "CVTerms stands for Controlled Vocabulary Terms, are is used to store the external resources which are linked with the given COBRA component. We can make CVTerm's object either by passing the data directly from the constructor. We can also define the nested data for linked resources."
   ]
  },
  {
   "cell_type": "code",
   "metadata": {
    "id": "whC9AASSQKnn",
    "colab_type": "code",
    "colab": {}
   },
   "source": [
    "annotation_dict = {\n",
    "    \"bqb_hasTaxon\": [{\"resources\": [\"http://identifiers.org/taxonomy/511145\"]}],\n",
    "    \"bqm_is\": [\n",
    "        {\n",
    "            \"nested_data\": {\n",
    "                \"bqb_isDescribedBy\": [\n",
    "                    {\"resources\": [\"https://identifiers.org/pubmed/1111111\"]},\n",
    "                    {\"resources\": [\"https://identifiers.org/eco/ECO:0000004\"]},\n",
    "                ]\n",
    "            },\n",
    "            \"resources\": [\"http://identifiers.org/bigg.model/e_coli_core\"],\n",
    "        }\n",
    "    ],\n",
    "}\n",
    "\n",
    "cvterms = CVTerms(annotation_dict)\n",
    "metabolite.annotation.cvterms = cvterms\n",
    "\n"
   ],
   "execution_count": null,
   "outputs": []
  },
  {
   "cell_type": "markdown",
   "metadata": {
    "id": "-BP4wL2JXUlK",
    "colab_type": "text"
   },
   "source": [
    "Or we can also add data by making separate `CVTerm` objects and then adding them at a particular index (indexing is done for a single qualifier for adding alternative annotation)."
   ]
  },
  {
   "cell_type": "code",
   "metadata": {
    "id": "DEyuH1cqXoar",
    "colab_type": "code",
    "colab": {}
   },
   "source": [
    "cvterm1 = CVTerm(Qualifier.bqb_isDescribedBy, \"http://identifiers.org/doi/10.1128/ecosalplus.10.2.1\")\n",
    "cvterm2 = CVTerm(Qualifier.bqb_isDescribedBy, \"http://identifiers.org/ncbigi/gi:16128336\")\n",
    "\n",
    "metabolite.annotation.cvterms.add_cvterm(cvterm1, 0)\n",
    "metabolite.annotation.cvterms.add_cvterm(cvterm1, 1)"
   ],
   "execution_count": null,
   "outputs": []
  },
  {
   "cell_type": "markdown",
   "metadata": {
    "id": "olUCYEdwSw6k",
    "colab_type": "text"
   },
   "source": [
    "# KeyValuePairs\n",
    "\n",
    "The KeyValuePair class is used for storing any type of key-value pair data, which is not suitable to store anywhere else in the model"
   ]
  },
  {
   "cell_type": "code",
   "metadata": {
    "id": "ENKACjXES9k1",
    "colab_type": "code",
    "colab": {}
   },
   "source": [
    "    entry1 = {\n",
    "        \"id\": \"id1\",\n",
    "        \"name\": \"abc_xyz\",\n",
    "        \"key\": \"key1\",\n",
    "        \"value\": \"45\",\n",
    "        \"uri\": \"https://tinyurl.com/ybyr7b62\",\n",
    "    }\n",
    "    entry2 = KeyValueEntry.from_data({\n",
    "        \"id\": \"id2\",\n",
    "        \"name\": \"abc_xyz2\",\n",
    "        \"key\": \"key2\",\n",
    "        \"value\": \"48\",\n",
    "        \"uri\": \"https://tinyurl2.com/ybyr7b62\",\n",
    "    })\n",
    "\n",
    "    kvp = KeyValuePairs(entries=[entry1, entry2])\n",
    "    metabolite.annotation.keyvaluepairs = kvp"
   ],
   "execution_count": null,
   "outputs": []
  },
  {
   "cell_type": "markdown",
   "metadata": {
    "id": "Rl3UV44OTe4Q",
    "colab_type": "text"
   },
   "source": [
    "# Notes\n",
    "The `notes` field under a COBRA component is used to store the notes data. Though it is not a right place to store key-value pairs, but earlier implementation has left many models where notes field have key-value pairs inside it. The current implementation contains a notes string as well as a notes dictionary, both synchronized with each other. One can only update values inside the notes dictioanry, adding new key-value pairs is restricted. Updating the dictionary will update the notes string also (only the key-value pair part). String manipulation, if required, will have to be done manually."
   ]
  },
  {
   "cell_type": "code",
   "metadata": {
    "id": "psrA4ROmU4X6",
    "colab_type": "code",
    "colab": {}
   },
   "source": [
    "notes_str = (\n",
    "    '\\\n",
    "<notes>\\n\\\n",
    "  <body xmlns=\"http://www.w3.org/1999/xhtml\">\\n\\\n",
    "    <div style=\"height: 60px; background-color: #09F;\">\\n\\\n",
    "      <p> Key1 : Value 1 </p>\\n\\\n",
    "      <p> Key2 : Value2 </p>\\n\\\n",
    "      <div style=\"margin-left: auto; margin-right: auto; '\n",
    "    'width: 970px;\">\\n\\\n",
    "        <h1> A Heading </h1>\\n\\\n",
    "        <div class=\"dc:title\"> e_coli_core - Escherichia coli '\n",
    "    \"str. K-12 substr. MG1655 </div>\\n\\\n",
    "      </div>\\n\\\n",
    "      <p> Key3 : Value 3 </p>\\n\\\n",
    "    </div>\\n\\\n",
    "  </body>\\n\\\n",
    "</notes>\"\n",
    ")\n",
    "\n",
    "metabolite.notes = Notes(notes_str)\n",
    "metabolite.notes[\"Key1\"] = \"New Value1\""
   ],
   "execution_count": null,
   "outputs": []
  }
 ]
}