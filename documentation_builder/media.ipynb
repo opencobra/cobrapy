{
 "cells": [
  {
   "cell_type": "markdown",
   "metadata": {},
   "source": [
    "# Growth media\n",
    "\n",
    "The availability of nutrients has a major impact on metabolic fluxes and `cobrapy` provides some helpers to manage the exchanges between the external environment and your metabolic model. In experimental settings the \"environment\" is usually constituted by the growth medium, ergo the concentrations of all metabolites and co-factors available to the modeled organism. However, constraint-based metabolic models only consider fluxes. Thus, you will first have to translate your concentrations into fluxes. For instance by assuming that 1 gDW of your organism cannot consume the entire concentration of a metabolite in 24h which gives you an estimate of the upper exchange flux of `concentration / (1 gDW * 24 h)`. If you have direct measurement of exchange fluxes you can of course use those as well (and those will be much more accurate). \n",
    "\n",
    "The current growth medium of a model is managed by the `medium` attribute.  "
   ]
  },
  {
   "cell_type": "code",
   "execution_count": 1,
   "metadata": {},
   "outputs": [
    {
     "data": {
      "text/plain": [
       "{'EX_co2_e': 1000.0,\n",
       " 'EX_glc__D_e': 10.0,\n",
       " 'EX_h2o_e': 1000.0,\n",
       " 'EX_h_e': 1000.0,\n",
       " 'EX_nh4_e': 1000.0,\n",
       " 'EX_o2_e': 1000.0,\n",
       " 'EX_pi_e': 1000.0}"
      ]
     },
     "execution_count": 1,
     "metadata": {},
     "output_type": "execute_result"
    }
   ],
   "source": [
    "from cobra.test import create_test_model\n",
    "\n",
    "model = create_test_model(\"textbook\")\n",
    "model.medium"
   ]
  },
  {
   "cell_type": "markdown",
   "metadata": {},
   "source": [
    "This will return a dictionary that contains all active exchange fluxes (the ones having non-zero flux bounds). Right now we see that we have enabled aerobic growth. You can modify a growth medium of a model by assigning a dictionary to `model.medium` that maps exchange reactions to their respective upper import bounds. For now let us enforce anaerobic growth by shutting off the oxygen import."
   ]
  },
  {
   "cell_type": "code",
   "execution_count": 2,
   "metadata": {},
   "outputs": [
    {
     "data": {
      "text/plain": [
       "{'EX_co2_e': 1000.0,\n",
       " 'EX_glc__D_e': 10.0,\n",
       " 'EX_h2o_e': 1000.0,\n",
       " 'EX_h_e': 1000.0,\n",
       " 'EX_nh4_e': 1000.0,\n",
       " 'EX_pi_e': 1000.0}"
      ]
     },
     "execution_count": 2,
     "metadata": {},
     "output_type": "execute_result"
    }
   ],
   "source": [
    "medium = model.medium\n",
    "medium[\"EX_o2_e\"] = 0.0\n",
    "model.medium = medium\n",
    "\n",
    "model.medium"
   ]
  },
  {
   "cell_type": "markdown",
   "metadata": {},
   "source": [
    "As we can see oxygen import is now removed from the list of active exchanges and we can verify that this also leads to a lower growth rate."
   ]
  },
  {
   "cell_type": "code",
   "execution_count": 3,
   "metadata": {},
   "outputs": [
    {
     "data": {
      "text/plain": [
       "0.21166294973530736"
      ]
     },
     "execution_count": 3,
     "metadata": {},
     "output_type": "execute_result"
    }
   ],
   "source": [
    "model.slim_optimize()"
   ]
  },
  {
   "cell_type": "markdown",
   "metadata": {},
   "source": [
    "Setting the growth medium also connects to the context manager, so you can set a specific growth medium in a reversible manner."
   ]
  },
  {
   "cell_type": "code",
   "execution_count": 4,
   "metadata": {},
   "outputs": [
    {
     "name": "stdout",
     "output_type": "stream",
     "text": [
      "0.21166294973530736\n",
      "0.8739215069684102\n"
     ]
    },
    {
     "data": {
      "text/plain": [
       "{'EX_co2_e': 1000.0,\n",
       " 'EX_glc__D_e': 10.0,\n",
       " 'EX_h2o_e': 1000.0,\n",
       " 'EX_h_e': 1000.0,\n",
       " 'EX_nh4_e': 1000.0,\n",
       " 'EX_o2_e': 1000.0,\n",
       " 'EX_pi_e': 1000.0}"
      ]
     },
     "execution_count": 4,
     "metadata": {},
     "output_type": "execute_result"
    }
   ],
   "source": [
    "model = create_test_model(\"textbook\")\n",
    "\n",
    "with model:\n",
    "    medium = model.medium\n",
    "    medium[\"EX_o2_e\"] = 0.0\n",
    "    model.medium = medium\n",
    "    print(model.slim_optimize())\n",
    "print(model.slim_optimize())\n",
    "model.medium"
   ]
  },
  {
   "cell_type": "markdown",
   "metadata": {},
   "source": [
    "So the medium change is only applied within the `with` block and reverted automatically."
   ]
  },
  {
   "cell_type": "markdown",
   "metadata": {},
   "source": [
    "## Minimal media\n",
    "\n",
    "In some cases you might be interested in the smallest growth medium that can maintain a specific growth rate, the so called \"minimal medium\". For this we provide the function `minimal_medium` which by default obtains the medium with the lowest total import flux. This function needs two arguments: the model and the minimum growth rate (or other objective) the model has to achieve."
   ]
  },
  {
   "cell_type": "code",
   "execution_count": 5,
   "metadata": {},
   "outputs": [
    {
     "data": {
      "text/plain": [
       "EX_glc__D_e    10.000000\n",
       "EX_nh4_e        4.765319\n",
       "EX_o2_e        21.799493\n",
       "EX_pi_e         3.214895\n",
       "dtype: float64"
      ]
     },
     "execution_count": 5,
     "metadata": {},
     "output_type": "execute_result"
    }
   ],
   "source": [
    "from cobra.medium import minimal_medium\n",
    "\n",
    "max_growth = model.slim_optimize()\n",
    "minimal_medium(model, max_growth)"
   ]
  },
  {
   "cell_type": "markdown",
   "metadata": {},
   "source": [
    "So we see that growth is actually limited by glucose import.\n",
    "\n",
    "Alternatively you might be interested in a minimal medium with the smallest  number of active imports. This can be achieved by using the `minimize_components` argument (note that this uses a MIP formulation and will therefore be much slower)."
   ]
  },
  {
   "cell_type": "code",
   "execution_count": 6,
   "metadata": {},
   "outputs": [
    {
     "data": {
      "text/plain": [
       "EX_glc__D_e    10.000000\n",
       "EX_nh4_e        1.042503\n",
       "EX_pi_e         0.703318\n",
       "dtype: float64"
      ]
     },
     "execution_count": 6,
     "metadata": {},
     "output_type": "execute_result"
    }
   ],
   "source": [
    "minimal_medium(model, 0.1, minimize_components=True)"
   ]
  },
  {
   "cell_type": "markdown",
   "metadata": {},
   "source": [
    "When minimizing the number of import fluxes there may be many alternative solutions. To obtain several of those you can also pass a positive integer to `minimize_components` which will give you at most that many alternative solutions. Let us try that with our model and also use the `open_exchanges` argument which will assign a large upper bound to all import reactions in the model. The return type will be a `pandas.DataFrame`."
   ]
  },
  {
   "cell_type": "code",
   "execution_count": 7,
   "metadata": {},
   "outputs": [
    {
     "data": {
      "text/html": [
       "<div>\n",
       "<style scoped>\n",
       "    .dataframe tbody tr th:only-of-type {\n",
       "        vertical-align: middle;\n",
       "    }\n",
       "\n",
       "    .dataframe tbody tr th {\n",
       "        vertical-align: top;\n",
       "    }\n",
       "\n",
       "    .dataframe thead th {\n",
       "        text-align: right;\n",
       "    }\n",
       "</style>\n",
       "<table border=\"1\" class=\"dataframe\">\n",
       "  <thead>\n",
       "    <tr style=\"text-align: right;\">\n",
       "      <th></th>\n",
       "      <th>0</th>\n",
       "      <th>1</th>\n",
       "      <th>2</th>\n",
       "      <th>3</th>\n",
       "      <th>4</th>\n",
       "      <th>5</th>\n",
       "    </tr>\n",
       "  </thead>\n",
       "  <tbody>\n",
       "    <tr>\n",
       "      <th>EX_fru_e</th>\n",
       "      <td>0.000000</td>\n",
       "      <td>0.000000</td>\n",
       "      <td>523.104557</td>\n",
       "      <td>0.000000</td>\n",
       "      <td>0.000000</td>\n",
       "      <td>0.000000</td>\n",
       "    </tr>\n",
       "    <tr>\n",
       "      <th>EX_glc__D_e</th>\n",
       "      <td>0.000000</td>\n",
       "      <td>0.000000</td>\n",
       "      <td>0.000000</td>\n",
       "      <td>523.104557</td>\n",
       "      <td>521.357767</td>\n",
       "      <td>519.750758</td>\n",
       "    </tr>\n",
       "    <tr>\n",
       "      <th>EX_gln__L_e</th>\n",
       "      <td>0.000000</td>\n",
       "      <td>0.000000</td>\n",
       "      <td>0.000000</td>\n",
       "      <td>0.000000</td>\n",
       "      <td>40.698058</td>\n",
       "      <td>0.000000</td>\n",
       "    </tr>\n",
       "    <tr>\n",
       "      <th>EX_glu__L_e</th>\n",
       "      <td>23.468185</td>\n",
       "      <td>348.101944</td>\n",
       "      <td>83.995843</td>\n",
       "      <td>83.995843</td>\n",
       "      <td>0.000000</td>\n",
       "      <td>0.000000</td>\n",
       "    </tr>\n",
       "    <tr>\n",
       "      <th>EX_mal__L_e</th>\n",
       "      <td>1000.000000</td>\n",
       "      <td>0.000000</td>\n",
       "      <td>0.000000</td>\n",
       "      <td>0.000000</td>\n",
       "      <td>0.000000</td>\n",
       "      <td>0.000000</td>\n",
       "    </tr>\n",
       "    <tr>\n",
       "      <th>EX_nh4_e</th>\n",
       "      <td>0.000000</td>\n",
       "      <td>0.000000</td>\n",
       "      <td>0.000000</td>\n",
       "      <td>0.000000</td>\n",
       "      <td>0.000000</td>\n",
       "      <td>81.026921</td>\n",
       "    </tr>\n",
       "    <tr>\n",
       "      <th>EX_o2_e</th>\n",
       "      <td>0.000000</td>\n",
       "      <td>500.000000</td>\n",
       "      <td>0.000000</td>\n",
       "      <td>0.000000</td>\n",
       "      <td>0.000000</td>\n",
       "      <td>0.000000</td>\n",
       "    </tr>\n",
       "    <tr>\n",
       "      <th>EX_pi_e</th>\n",
       "      <td>15.667461</td>\n",
       "      <td>66.431529</td>\n",
       "      <td>56.667310</td>\n",
       "      <td>56.667310</td>\n",
       "      <td>54.913419</td>\n",
       "      <td>54.664344</td>\n",
       "    </tr>\n",
       "  </tbody>\n",
       "</table>\n",
       "</div>"
      ],
      "text/plain": [
       "                       0           1           2           3           4  \\\n",
       "EX_fru_e        0.000000    0.000000  523.104557    0.000000    0.000000   \n",
       "EX_glc__D_e     0.000000    0.000000    0.000000  523.104557  521.357767   \n",
       "EX_gln__L_e     0.000000    0.000000    0.000000    0.000000   40.698058   \n",
       "EX_glu__L_e    23.468185  348.101944   83.995843   83.995843    0.000000   \n",
       "EX_mal__L_e  1000.000000    0.000000    0.000000    0.000000    0.000000   \n",
       "EX_nh4_e        0.000000    0.000000    0.000000    0.000000    0.000000   \n",
       "EX_o2_e         0.000000  500.000000    0.000000    0.000000    0.000000   \n",
       "EX_pi_e        15.667461   66.431529   56.667310   56.667310   54.913419   \n",
       "\n",
       "                      5  \n",
       "EX_fru_e       0.000000  \n",
       "EX_glc__D_e  519.750758  \n",
       "EX_gln__L_e    0.000000  \n",
       "EX_glu__L_e    0.000000  \n",
       "EX_mal__L_e    0.000000  \n",
       "EX_nh4_e      81.026921  \n",
       "EX_o2_e        0.000000  \n",
       "EX_pi_e       54.664344  "
      ]
     },
     "execution_count": 7,
     "metadata": {},
     "output_type": "execute_result"
    }
   ],
   "source": [
    "minimal_medium(model, 0.8, minimize_components=8, open_exchanges=True)"
   ]
  },
  {
   "cell_type": "markdown",
   "metadata": {},
   "source": [
    "So there are 4 alternative solutions in total. One aerobic and three anaerobic ones using different carbon sources."
   ]
  },
  {
   "cell_type": "markdown",
   "metadata": {},
   "source": [
    "## Boundary reactions\n",
    "\n",
    "Apart from exchange reactions there are other types of boundary reactions such as demand or sink reactions. `cobrapy` uses various heuristics to identify those and they can be accessed by using the appropriate attribute.\n",
    "\n",
    "For exchange reactions:"
   ]
  },
  {
   "cell_type": "code",
   "execution_count": 8,
   "metadata": {},
   "outputs": [
    {
     "data": {
      "text/plain": [
       "[<Reaction EX_12ppd__R_e at 0x7f3921088fd0>,\n",
       " <Reaction EX_12ppd__S_e at 0x7f3921078fd0>,\n",
       " <Reaction EX_14glucan_e at 0x7f3921078f98>,\n",
       " <Reaction EX_15dap_e at 0x7f3921078eb8>,\n",
       " <Reaction EX_23camp_e at 0x7f392107e2b0>]"
      ]
     },
     "execution_count": 8,
     "metadata": {},
     "output_type": "execute_result"
    }
   ],
   "source": [
    "ecoli = create_test_model(\"ecoli\")\n",
    "ecoli.exchanges[0:5]"
   ]
  },
  {
   "cell_type": "markdown",
   "metadata": {},
   "source": [
    "For demand reactions:"
   ]
  },
  {
   "cell_type": "code",
   "execution_count": 9,
   "metadata": {},
   "outputs": [
    {
     "data": {
      "text/plain": [
       "[<Reaction DM_4CRSOL at 0x7f3921144b70>,\n",
       " <Reaction DM_5DRIB at 0x7f3921078b38>,\n",
       " <Reaction DM_AACALD at 0x7f3921078be0>,\n",
       " <Reaction DM_AMOB at 0x7f3921078c50>,\n",
       " <Reaction DM_MTHTHF at 0x7f3921078cf8>,\n",
       " <Reaction DM_OXAM at 0x7f3921078d68>]"
      ]
     },
     "execution_count": 9,
     "metadata": {},
     "output_type": "execute_result"
    }
   ],
   "source": [
    "ecoli.demands"
   ]
  },
  {
   "cell_type": "markdown",
   "metadata": {},
   "source": [
    "For sink reactions:"
   ]
  },
  {
   "cell_type": "code",
   "execution_count": 10,
   "metadata": {},
   "outputs": [
    {
     "data": {
      "text/plain": [
       "[]"
      ]
     },
     "execution_count": 10,
     "metadata": {},
     "output_type": "execute_result"
    }
   ],
   "source": [
    "ecoli.sinks"
   ]
  },
  {
   "cell_type": "markdown",
   "metadata": {},
   "source": [
    "All boundary reactions (any reaction that consumes or introduces mass into the system) can be obtained with the `boundary` attribute:"
   ]
  },
  {
   "cell_type": "code",
   "execution_count": 11,
   "metadata": {},
   "outputs": [
    {
     "data": {
      "text/plain": [
       "[<Reaction DM_4CRSOL at 0x7f3921144b70>,\n",
       " <Reaction DM_5DRIB at 0x7f3921078b38>,\n",
       " <Reaction DM_AACALD at 0x7f3921078be0>,\n",
       " <Reaction DM_AMOB at 0x7f3921078c50>,\n",
       " <Reaction DM_MTHTHF at 0x7f3921078cf8>,\n",
       " <Reaction DM_OXAM at 0x7f3921078d68>,\n",
       " <Reaction EX_12ppd__R_e at 0x7f3921088fd0>,\n",
       " <Reaction EX_12ppd__S_e at 0x7f3921078fd0>,\n",
       " <Reaction EX_14glucan_e at 0x7f3921078f98>,\n",
       " <Reaction EX_15dap_e at 0x7f3921078eb8>]"
      ]
     },
     "execution_count": 11,
     "metadata": {},
     "output_type": "execute_result"
    }
   ],
   "source": [
    "ecoli.boundary[0:10]"
   ]
  }
 ],
 "metadata": {
  "kernelspec": {
   "display_name": "Python 3",
   "language": "python",
   "name": "python3"
  },
  "language_info": {
   "codemirror_mode": {
    "name": "ipython",
    "version": 3
   },
   "file_extension": ".py",
   "mimetype": "text/x-python",
   "name": "python",
   "nbconvert_exporter": "python",
   "pygments_lexer": "ipython3",
   "version": "3.5.5"
  }
 },
 "nbformat": 4,
 "nbformat_minor": 2
}
