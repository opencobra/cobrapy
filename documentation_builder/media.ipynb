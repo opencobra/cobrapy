{
 "cells": [
  {
   "cell_type": "markdown",
   "metadata": {},
   "source": [
    "## Growth media\n",
    "\n",
    "One essential part of metabolic modeling is applying an environment that mimicks *in vivo* conditions. In metabolic models that is achieved by controlling which metabolites the the model can consume. For instance if we ran an experiment with *E. coli* in a growth medium without Histidine our model should not be able to import Histidine either.\n",
    "\n",
    "However, metabolites are not really variables in a metabolic model so there is no way of telling the model \"there is no Histidine in the growth medium\". As an alternative we can apply constraints to the respective import reactions, thus telling the model \"there is way you can import Histidine\". This can be achieved easily by fixing the respective import reaction at zero flux.\n",
    "\n",
    "So in summary, the notion COBRApy has of a growth medium is a bit different. Whereas you might be used to see a growth medium as a collection of metabolites and their concentrations COBRApy sees a growth medium **as a collection of import reactions and their maximum import fluxes**. Let's look at a small example to see how that works.  "
   ]
  },
  {
   "cell_type": "markdown",
   "metadata": {},
   "source": [
    "## Getting and assigning growth media\n",
    "\n",
    "We will use a small model of *E. coli* central carbon metabolism which is included in COBRApy"
   ]
  },
  {
   "cell_type": "code",
   "execution_count": 1,
   "metadata": {},
   "outputs": [
    {
     "name": "stdout",
     "output_type": "stream",
     "text": [
      "Growth rate = 0.8739215069684307\n"
     ]
    },
    {
     "data": {
      "text/plain": [
       "{'EX_co2_e': 1000.0,\n",
       " 'EX_glc__D_e': 10.0,\n",
       " 'EX_h2o_e': 1000.0,\n",
       " 'EX_h_e': 1000.0,\n",
       " 'EX_nh4_e': 1000.0,\n",
       " 'EX_o2_e': 1000.0,\n",
       " 'EX_pi_e': 1000.0}"
      ]
     },
     "execution_count": 1,
     "metadata": {},
     "output_type": "execute_result"
    }
   ],
   "source": [
    "from cobra.test import create_test_model\n",
    "\n",
    "model = create_test_model(\"textbook\")\n",
    "print(\"Growth rate =\", model.slim_optimize())\n",
    "model.medium"
   ]
  },
  {
   "cell_type": "markdown",
   "metadata": {},
   "source": [
    "As we can see by default the model permits imports for most major components. Now, let us simulate anaerobic growth. For that we will make a copy of the original medium and prohibit the import of Oxygen."
   ]
  },
  {
   "cell_type": "code",
   "execution_count": 2,
   "metadata": {},
   "outputs": [],
   "source": [
    "anaerobic = model.medium\n",
    "anaerobic[\"EX_o2_e\"] = 0"
   ]
  },
  {
   "cell_type": "markdown",
   "metadata": {},
   "source": [
    "You can simply assign the new medium to the model's `medium` attribute. Import reaction that do not appear in the medium dictionary are assumed to be deactivated (fixed at zero flux)."
   ]
  },
  {
   "cell_type": "code",
   "execution_count": 3,
   "metadata": {},
   "outputs": [
    {
     "name": "stdout",
     "output_type": "stream",
     "text": [
      "Growth rate = 0.21166294973531286\n"
     ]
    },
    {
     "data": {
      "text/plain": [
       "{'EX_co2_e': 1000.0,\n",
       " 'EX_glc__D_e': 10.0,\n",
       " 'EX_h2o_e': 1000.0,\n",
       " 'EX_h_e': 1000.0,\n",
       " 'EX_nh4_e': 1000.0,\n",
       " 'EX_pi_e': 1000.0}"
      ]
     },
     "execution_count": 3,
     "metadata": {},
     "output_type": "execute_result"
    }
   ],
   "source": [
    "model.medium = anaerobic\n",
    "print(\"Growth rate =\", model.slim_optimize())\n",
    "model.medium"
   ]
  },
  {
   "cell_type": "markdown",
   "metadata": {},
   "source": [
    "As we can see Oxygen does not appear in the medium anymore (missing reactions have an import of zero), however the model still exhibits growth since *E. coli* can grow under anaerobic conditions (albeit with a lower growth rate)."
   ]
  },
  {
   "cell_type": "markdown",
   "metadata": {},
   "source": [
    "In practice you might want to apply a ceratin growth medium only for one simulation and go back to the previous growth medium afterwards. To make this easy `model.medium` automatically integrates with the COBRApy context manager."
   ]
  },
  {
   "cell_type": "code",
   "execution_count": 4,
   "metadata": {},
   "outputs": [
    {
     "name": "stdout",
     "output_type": "stream",
     "text": [
      "Temporary medium = {'EX_co2_e': 1000.0, 'EX_glc__D_e': 10.0, 'EX_h_e': 1000.0, 'EX_h2o_e': 1000.0, 'EX_nh4_e': 1000.0, 'EX_pi_e': 1000.0}\n",
      "Model medium = {'EX_co2_e': 1000.0, 'EX_glc__D_e': 10.0, 'EX_h_e': 1000.0, 'EX_h2o_e': 1000.0, 'EX_nh4_e': 1000.0, 'EX_o2_e': 1000.0, 'EX_pi_e': 1000.0}\n"
     ]
    }
   ],
   "source": [
    "model = create_test_model(\"textbook\")\n",
    "\n",
    "with model:\n",
    "    model.medium = anaerobic\n",
    "    print(\"Temporary medium =\", model.medium)\n",
    "\n",
    "print(\"Model medium =\", model.medium)"
   ]
  },
  {
   "cell_type": "markdown",
   "metadata": {},
   "source": [
    "As you can see the anaerobic medium was only applied inside the `with` block."
   ]
  },
  {
   "cell_type": "markdown",
   "metadata": {},
   "source": [
    "## Minimal media\n",
    "\n",
    "Sometimes you might be interested which is the minimal medium that still allows for a certain growth rate. A function for this question (and some others) can be found in the `media` module."
   ]
  },
  {
   "cell_type": "code",
   "execution_count": 5,
   "metadata": {},
   "outputs": [
    {
     "data": {
      "text/plain": [
       "EX_glc__D_e     7.327496\n",
       "EX_nh4_e        2.726400\n",
       "EX_o2_e        10.855375\n",
       "EX_pi_e         1.839350\n",
       "dtype: float64"
      ]
     },
     "execution_count": 5,
     "metadata": {},
     "output_type": "execute_result"
    }
   ],
   "source": [
    "from cobra.media import minimal_medium\n",
    "\n",
    "minimal_medium(model, min_growth=0.5)"
   ]
  },
  {
   "cell_type": "markdown",
   "metadata": {},
   "source": [
    "By default `minimal_medium` minimizes the total import flux (sum of all import fluxes), but you can also request the minimal medium with the least components. This is the fastest method which also gives nearly unqiue solutions."
   ]
  },
  {
   "cell_type": "code",
   "execution_count": 6,
   "metadata": {},
   "outputs": [
    {
     "data": {
      "text/plain": [
       "EX_glc__D_e    10.000000\n",
       "EX_nh4_e        3.907885\n",
       "EX_o2_e        22.707651\n",
       "EX_pi_e         2.636432\n",
       "dtype: float64"
      ]
     },
     "execution_count": 6,
     "metadata": {},
     "output_type": "execute_result"
    }
   ],
   "source": [
    "minimal_medium(model, min_growth=0.5, minimize_components=True)"
   ]
  },
  {
   "cell_type": "markdown",
   "metadata": {},
   "source": [
    "Note that minimizing the number of components there are many alternative solutions having the same components but different import fluxes. In fact in this case there are several solutions using four different components. To see more than just one possible solution you can pass a number to the `minimize components` argument (the maximum number of alternative solutions). All alternative solutions will have the same number of components but will differ by at least one component (import flux).\n",
    "\n",
    "In order to observe those alternative solutions in that model we will also have to open previously closed exchnage reactions which can be achieved with the `open_exchanges` argument."
   ]
  },
  {
   "cell_type": "code",
   "execution_count": 7,
   "metadata": {},
   "outputs": [
    {
     "data": {
      "text/html": [
       "<div>\n",
       "<style scoped>\n",
       "    .dataframe tbody tr th:only-of-type {\n",
       "        vertical-align: middle;\n",
       "    }\n",
       "\n",
       "    .dataframe tbody tr th {\n",
       "        vertical-align: top;\n",
       "    }\n",
       "\n",
       "    .dataframe thead th {\n",
       "        text-align: right;\n",
       "    }\n",
       "</style>\n",
       "<table border=\"1\" class=\"dataframe\">\n",
       "  <thead>\n",
       "    <tr style=\"text-align: right;\">\n",
       "      <th></th>\n",
       "      <th>0</th>\n",
       "      <th>1</th>\n",
       "      <th>2</th>\n",
       "      <th>3</th>\n",
       "    </tr>\n",
       "  </thead>\n",
       "  <tbody>\n",
       "    <tr>\n",
       "      <th>EX_fru_e</th>\n",
       "      <td>0.000000</td>\n",
       "      <td>521.357767</td>\n",
       "      <td>0.000000</td>\n",
       "      <td>0.000000</td>\n",
       "    </tr>\n",
       "    <tr>\n",
       "      <th>EX_glc__D_e</th>\n",
       "      <td>0.000000</td>\n",
       "      <td>0.000000</td>\n",
       "      <td>0.000000</td>\n",
       "      <td>519.750758</td>\n",
       "    </tr>\n",
       "    <tr>\n",
       "      <th>EX_gln__L_e</th>\n",
       "      <td>0.000000</td>\n",
       "      <td>40.698058</td>\n",
       "      <td>18.848678</td>\n",
       "      <td>0.000000</td>\n",
       "    </tr>\n",
       "    <tr>\n",
       "      <th>EX_glu__L_e</th>\n",
       "      <td>348.101944</td>\n",
       "      <td>0.000000</td>\n",
       "      <td>0.000000</td>\n",
       "      <td>0.000000</td>\n",
       "    </tr>\n",
       "    <tr>\n",
       "      <th>EX_mal__L_e</th>\n",
       "      <td>0.000000</td>\n",
       "      <td>0.000000</td>\n",
       "      <td>1000.000000</td>\n",
       "      <td>0.000000</td>\n",
       "    </tr>\n",
       "    <tr>\n",
       "      <th>EX_nh4_e</th>\n",
       "      <td>0.000000</td>\n",
       "      <td>0.000000</td>\n",
       "      <td>0.000000</td>\n",
       "      <td>81.026921</td>\n",
       "    </tr>\n",
       "    <tr>\n",
       "      <th>EX_o2_e</th>\n",
       "      <td>500.000000</td>\n",
       "      <td>0.000000</td>\n",
       "      <td>0.000000</td>\n",
       "      <td>0.000000</td>\n",
       "    </tr>\n",
       "    <tr>\n",
       "      <th>EX_pi_e</th>\n",
       "      <td>66.431529</td>\n",
       "      <td>54.913419</td>\n",
       "      <td>12.583458</td>\n",
       "      <td>54.664344</td>\n",
       "    </tr>\n",
       "  </tbody>\n",
       "</table>\n",
       "</div>"
      ],
      "text/plain": [
       "                      0           1            2           3\n",
       "EX_fru_e       0.000000  521.357767     0.000000    0.000000\n",
       "EX_glc__D_e    0.000000    0.000000     0.000000  519.750758\n",
       "EX_gln__L_e    0.000000   40.698058    18.848678    0.000000\n",
       "EX_glu__L_e  348.101944    0.000000     0.000000    0.000000\n",
       "EX_mal__L_e    0.000000    0.000000  1000.000000    0.000000\n",
       "EX_nh4_e       0.000000    0.000000     0.000000   81.026921\n",
       "EX_o2_e      500.000000    0.000000     0.000000    0.000000\n",
       "EX_pi_e       66.431529   54.913419    12.583458   54.664344"
      ]
     },
     "execution_count": 7,
     "metadata": {},
     "output_type": "execute_result"
    }
   ],
   "source": [
    "minimal_medium(model, min_growth=0.8, minimize_components=4, open_exchanges=True)"
   ]
  },
  {
   "cell_type": "markdown",
   "metadata": {},
   "source": [
    "The output will be a pandas DataFrame. This way we can see the many different growth media the model supports. For instance there is only one aerobic medium (#1) and one that uses Fructose instead of Glucose (#2)."
   ]
  }
 ],
 "metadata": {
  "kernelspec": {
   "display_name": "Python 3",
   "language": "python",
   "name": "python3"
  },
  "language_info": {
   "codemirror_mode": {
    "name": "ipython",
    "version": 3
   },
   "file_extension": ".py",
   "mimetype": "text/x-python",
   "name": "python",
   "nbconvert_exporter": "python",
   "pygments_lexer": "ipython3",
   "version": "3.6.2"
  }
 },
 "nbformat": 4,
 "nbformat_minor": 2
}
