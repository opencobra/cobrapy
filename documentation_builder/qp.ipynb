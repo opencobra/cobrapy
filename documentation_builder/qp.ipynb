{
 "cells": [
  {
   "cell_type": "markdown",
   "metadata": {},
   "source": [
    "# Quadratic Programming\n",
    "\n",
    "Suppose we want to minimize the Euclidean distance of the solution to the origin while subject to linear constraints. This will require a quadratic objective function. Consider this example problem:\n",
    "\n",
    "> **min** $\\frac{1}{2}\\left(x^2 + y^2 \\right)$\n",
    "\n",
    "> *subject to*\n",
    "\n",
    "> $x + y = 2$\n",
    "\n",
    "> $x \\ge 0$\n",
    "\n",
    "> $y \\ge 0$\n",
    "\n",
    "This problem can be visualized graphically:"
   ]
  },
  {
   "cell_type": "code",
   "execution_count": 1,
   "metadata": {
    "collapsed": false
   },
   "outputs": [
    {
     "data": {
      "image/png": "[encoded data removed]",
      "text/plain": [
       "<matplotlib.figure.Figure at 0x7f72a06d2bd0>"
      ]
     },
     "metadata": {},
     "output_type": "display_data"
    }
   ],
   "source": [
    "%matplotlib inline\n",
    "from matplotlib.pyplot import figure, xlim, ylim\n",
    "from mpl_toolkits.axes_grid.axislines import SubplotZero\n",
    "from numpy import linspace, arange, sqrt, pi, sin, cos, sign\n",
    "# axis style\n",
    "def make_plot_ax():\n",
    "    fig = figure(figsize=(6, 5));\n",
    "    ax = SubplotZero(fig, 111); fig.add_subplot(ax)\n",
    "    for direction in [\"xzero\", \"yzero\"]:\n",
    "        ax.axis[direction].set_axisline_style(\"-|>\")\n",
    "        ax.axis[direction].set_visible(True)\n",
    "    for direction in [\"left\", \"right\", \"bottom\", \"top\"]:\n",
    "        ax.axis[direction].set_visible(False)\n",
    "    xlim(-0.1, 2.1); ylim(xlim())\n",
    "    ticks = [0.5 * i for i in range(1, 5)]\n",
    "    labels = [str(i) if i == int(i) else \"\" for i in ticks]\n",
    "    ax.set_xticks(ticks); ax.set_yticks(ticks)\n",
    "    ax.set_xticklabels(labels); ax.set_yticklabels(labels)\n",
    "    ax.axis[\"yzero\"].set_axis_direction(\"left\")\n",
    "    return ax\n",
    "    \n",
    "ax = make_plot_ax()\n",
    "ax.plot((0, 2), (2, 0), 'b')\n",
    "ax.plot([1], [1], 'bo')\n",
    "\n",
    "# circular grid\n",
    "for r in sqrt(2.) + 0.125 * arange(-11, 6):\n",
    "    t = linspace(0., pi/2., 100)\n",
    "    ax.plot(r * cos(t), r * sin(t), '-.', color=\"gray\")"
   ]
  },
  {
   "cell_type": "markdown",
   "metadata": {},
   "source": [
    "The objective can be rewritten as $\\frac{1}{2} v^T \\cdot \\mathbf Q \\cdot v$, where\n",
    "$v = \\left(\\begin{matrix} x \\\\ y\\end{matrix} \\right)$ and\n",
    "$\\mathbf Q = \\left(\\begin{matrix} 1 & 0\\\\ 0 & 1 \\end{matrix}\\right)$\n",
    "\n",
    "The matrix $\\mathbf Q$ can be passed into a cobra model as the quadratic objective."
   ]
  },
  {
   "cell_type": "code",
   "execution_count": 2,
   "metadata": {
    "collapsed": false
   },
   "outputs": [],
   "source": [
    "import scipy\n",
    "\n",
    "from cobra import Reaction, Metabolite, Model, solvers"
   ]
  },
  {
   "cell_type": "markdown",
   "metadata": {},
   "source": [
    "The quadratic objective $\\mathbf Q$ should be formatted as a scipy sparse matrix."
   ]
  },
  {
   "cell_type": "code",
   "execution_count": 3,
   "metadata": {
    "collapsed": false
   },
   "outputs": [
    {
     "data": {
      "text/plain": [
       "<2x2 sparse matrix of type '<type 'numpy.float64'>'\n",
       "\twith 2 stored elements in Dictionary Of Keys format>"
      ]
     },
     "execution_count": 3,
     "metadata": {},
     "output_type": "execute_result"
    }
   ],
   "source": [
    "Q = scipy.sparse.eye(2).todok()\n",
    "Q"
   ]
  },
  {
   "cell_type": "markdown",
   "metadata": {},
   "source": [
    "In this case, the quadratic objective is simply the identity matrix"
   ]
  },
  {
   "cell_type": "code",
   "execution_count": 4,
   "metadata": {
    "collapsed": false
   },
   "outputs": [
    {
     "data": {
      "text/plain": [
       "matrix([[ 1.,  0.],\n",
       "        [ 0.,  1.]])"
      ]
     },
     "execution_count": 4,
     "metadata": {},
     "output_type": "execute_result"
    }
   ],
   "source": [
    "Q.todense()"
   ]
  },
  {
   "cell_type": "markdown",
   "metadata": {},
   "source": [
    "We need to use a solver that supports quadratic programming, such as gurobi or cplex. If a solver which supports quadratic programming is installed, this function will return its name."
   ]
  },
  {
   "cell_type": "code",
   "execution_count": 5,
   "metadata": {
    "collapsed": false
   },
   "outputs": [
    {
     "name": "stdout",
     "output_type": "stream",
     "text": [
      "gurobi\n"
     ]
    }
   ],
   "source": [
    "print(solvers.get_solver_name(qp=True))"
   ]
  },
  {
   "cell_type": "code",
   "execution_count": 6,
   "metadata": {
    "collapsed": false
   },
   "outputs": [
    {
     "data": {
      "text/plain": [
       "{'x': 1.0, 'y': 1.0}"
      ]
     },
     "execution_count": 6,
     "metadata": {},
     "output_type": "execute_result"
    }
   ],
   "source": [
    "c = Metabolite(\"c\")\n",
    "c._bound = 2\n",
    "x = Reaction(\"x\")\n",
    "y = Reaction(\"y\")\n",
    "x.add_metabolites({c: 1})\n",
    "y.add_metabolites({c: 1})\n",
    "m = Model()\n",
    "m.add_reactions([x, y])\n",
    "sol = m.optimize(quadratic_component=Q, objective_sense=\"minimize\")\n",
    "sol.x_dict"
   ]
  },
  {
   "cell_type": "markdown",
   "metadata": {},
   "source": [
    "Suppose we change the problem to have a mixed linear and quadratic objective.\n",
    "\n",
    "> **min** $\\frac{1}{2}\\left(x^2 + y^2 \\right) - y$\n",
    "\n",
    "> *subject to*\n",
    "\n",
    "> $x + y = 2$\n",
    "\n",
    "> $x \\ge 0$\n",
    "\n",
    "> $y \\ge 0$\n",
    "\n",
    "Graphically, this would be"
   ]
  },
  {
   "cell_type": "code",
   "execution_count": 7,
   "metadata": {
    "collapsed": false
   },
   "outputs": [
    {
     "data": {
      "image/png": "[encoded data removed]",
      "text/plain": [
       "<matplotlib.figure.Figure at 0x7f72705b3fd0>"
      ]
     },
     "metadata": {},
     "output_type": "display_data"
    }
   ],
   "source": [
    "ax = make_plot_ax()\n",
    "ax.plot((0, 2), (2, 0), 'b')\n",
    "ax.plot([0.5], [1.5], 'bo')\n",
    "\n",
    "yrange = linspace(1, 2, 11)\n",
    "for r in (yrange ** 2 / 2. - yrange):\n",
    "    t = linspace(-sqrt(2 * r + 1) + 0.000001, sqrt(2 * r + 1) - 0.000001, 1000)\n",
    "    ax.plot(abs(t), 1 + sqrt(2 * r + 1 - t ** 2) * sign(t), '-.', color=\"gray\")"
   ]
  },
  {
   "cell_type": "markdown",
   "metadata": {},
   "source": [
    "QP solvers in cobrapy will combine linear and quadratic coefficients. The linear portion will be obtained from the same objective_coefficient attribute used with LP's."
   ]
  },
  {
   "cell_type": "code",
   "execution_count": 8,
   "metadata": {
    "collapsed": false
   },
   "outputs": [
    {
     "data": {
      "text/plain": [
       "{'x': 0.5, 'y': 1.5}"
      ]
     },
     "execution_count": 8,
     "metadata": {},
     "output_type": "execute_result"
    }
   ],
   "source": [
    "y.objective_coefficient = -1\n",
    "sol = m.optimize(quadratic_component=Q, objective_sense=\"minimize\")\n",
    "sol.x_dict"
   ]
  }
 ],
 "metadata": {
  "kernelspec": {
   "display_name": "Python 2",
   "language": "python",
   "name": "python2"
  },
  "language_info": {
   "codemirror_mode": {
    "name": "ipython",
    "version": 2
   },
   "file_extension": ".py",
   "mimetype": "text/x-python",
   "name": "python",
   "nbconvert_exporter": "python",
   "pygments_lexer": "ipython2",
   "version": "2.7.6"
  }
 },
 "nbformat": 4,
 "nbformat_minor": 0
}
