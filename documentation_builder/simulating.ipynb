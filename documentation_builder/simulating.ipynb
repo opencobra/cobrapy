{
 "cells": [
  {
   "cell_type": "markdown",
   "metadata": {},
   "source": [
    "# Simulating with FBA"
   ]
  },
  {
   "cell_type": "markdown",
   "metadata": {
    "deletable": true,
    "editable": true
   },
   "source": [
    "Simulations using flux balance analysis can be solved using `Model.optimize()`. This will maximize or minimize (maximizing is the default) flux through the objective reactions."
   ]
  },
  {
   "cell_type": "code",
   "execution_count": 1,
   "metadata": {
    "collapsed": false,
    "deletable": true,
    "editable": true
   },
   "outputs": [
    {
     "name": "stderr",
     "output_type": "stream",
     "text": [
      "/home/moritz/.virtualenvs/cobra/lib/python3.5/site-packages/optlang/gurobi_interface.py:26: UserWarning: Be careful! The GUROBI interface is still under construction ...\n",
      "  warn(\"Be careful! The GUROBI interface is still under construction ...\")\n"
     ]
    }
   ],
   "source": [
    "import cobra.test\n",
    "model = cobra.test.create_test_model(\"textbook\")"
   ]
  },
  {
   "cell_type": "markdown",
   "metadata": {
    "deletable": true,
    "editable": true
   },
   "source": [
    "## Running FBA"
   ]
  },
  {
   "cell_type": "code",
   "execution_count": 2,
   "metadata": {
    "collapsed": false,
    "deletable": true,
    "editable": true
   },
   "outputs": [
    {
     "name": "stdout",
     "output_type": "stream",
     "text": [
      "<Solution 0.874 at 0x7f8cad002f60>\n"
     ]
    }
   ],
   "source": [
    "solution = model.optimize()\n",
    "print(solution)"
   ]
  },
  {
   "cell_type": "markdown",
   "metadata": {
    "deletable": true,
    "editable": true
   },
   "source": [
    "The Model.optimize() function will return a Solution object. A solution object has several attributes:\n",
    "\n",
    " - `objective_value`: the objective value\n",
    " - `status`: the status from the linear programming solver\n",
    " - `fluxes`: a pandas series with flux indexed by reaction identifier. The flux for a reaction variable is the difference of the primal values for the forward and reverse reaction variables.\n",
    " - `shadow_prices`: a pandas series with shadow price indexed by the metabolite identifier."
   ]
  },
  {
   "cell_type": "markdown",
   "metadata": {
    "deletable": true,
    "editable": true
   },
   "source": [
    "For example, after the last call to `model.optimize()`, if the optimization succeeds it's status will be optimal. In case the model is infeasible an error is raised."
   ]
  },
  {
   "cell_type": "code",
   "execution_count": 3,
   "metadata": {
    "collapsed": false,
    "deletable": true,
    "editable": true
   },
   "outputs": [
    {
     "data": {
      "text/plain": [
       "0.8739215069684307"
      ]
     },
     "execution_count": 3,
     "metadata": {},
     "output_type": "execute_result"
    }
   ],
   "source": [
    "solution.objective_value"
   ]
  },
  {
   "cell_type": "markdown",
   "metadata": {},
   "source": [
    "### Analyzing FBA solutions"
   ]
  },
  {
   "cell_type": "markdown",
   "metadata": {
    "deletable": true,
    "editable": true
   },
   "source": [
    "Models solved using FBA can be further analyzed by using summary methods, which output printed text to give a quick representation of model behavior. Calling the summary method on the entire model displays information on the input and output behavior of the model, along with the optimized objective."
   ]
  },
  {
   "cell_type": "code",
   "execution_count": 4,
   "metadata": {
    "collapsed": false,
    "deletable": true,
    "editable": true
   },
   "outputs": [
    {
     "name": "stdout",
     "output_type": "stream",
     "text": [
      "IN FLUXES        OUT FLUXES    OBJECTIVES\n",
      "---------------  ------------  ----------------------\n",
      "o2_e      21.8   h2o_e  29.2   Biomass_Ecol...  0.874\n",
      "glc__D_e  10     co2_e  22.8\n",
      "nh4_e      4.77  h_e    17.5\n",
      "pi_e       3.21\n"
     ]
    }
   ],
   "source": [
    "model.summary()"
   ]
  },
  {
   "cell_type": "markdown",
   "metadata": {
    "deletable": true,
    "editable": true
   },
   "source": [
    "In addition, the input-output behavior of individual metabolites can also be inspected using summary methods. For instance, the following commands can be used to examine the overall redox balance of the model"
   ]
  },
  {
   "cell_type": "code",
   "execution_count": 5,
   "metadata": {
    "collapsed": false,
    "deletable": true,
    "editable": true
   },
   "outputs": [
    {
     "name": "stdout",
     "output_type": "stream",
     "text": [
      "PRODUCING REACTIONS -- Nicotinamide adenine dinucleotide - reduced (nadh_c)\n",
      "---------------------------------------------------------------------------\n",
      "%       FLUX  RXN ID      REACTION\n",
      "----  ------  ----------  --------------------------------------------------\n",
      "42%    16     GAPD        g3p_c + nad_c + pi_c <=> 13dpg_c + h_c + nadh_c\n",
      "24%     9.28  PDH         coa_c + nad_c + pyr_c --> accoa_c + co2_c + nadh_c\n",
      "13%     5.06  AKGDH       akg_c + coa_c + nad_c --> co2_c + nadh_c + succ...\n",
      "13%     5.06  MDH         mal__L_c + nad_c <=> h_c + nadh_c + oaa_c\n",
      "8%      3.1   Biomass...  1.496 3pg_c + 3.7478 accoa_c + 59.81 atp_c + 0....\n",
      "\n",
      "CONSUMING REACTIONS -- Nicotinamide adenine dinucleotide - reduced (nadh_c)\n",
      "---------------------------------------------------------------------------\n",
      "%       FLUX  RXN ID      REACTION\n",
      "----  ------  ----------  --------------------------------------------------\n",
      "100%   38.5   NADH16      4.0 h_c + nadh_c + q8_c --> 3.0 h_e + nad_c + q...\n"
     ]
    }
   ],
   "source": [
    "model.metabolites.nadh_c.summary()"
   ]
  },
  {
   "cell_type": "markdown",
   "metadata": {
    "deletable": true,
    "editable": true
   },
   "source": [
    "Or to get a sense of the main energy production and consumption reactions"
   ]
  },
  {
   "cell_type": "code",
   "execution_count": 6,
   "metadata": {
    "collapsed": false,
    "deletable": true,
    "editable": true
   },
   "outputs": [
    {
     "name": "stdout",
     "output_type": "stream",
     "text": [
      "PRODUCING REACTIONS -- ATP (atp_c)\n",
      "----------------------------------\n",
      "%      FLUX  RXN ID      REACTION\n",
      "---  ------  ----------  --------------------------------------------------\n",
      "67%  45.5    ATPS4r      adp_c + 4.0 h_e + pi_c <=> atp_c + h2o_c + 3.0 h_c\n",
      "23%  16      PGK         3pg_c + atp_c <=> 13dpg_c + adp_c\n",
      "7%    5.06   SUCOAS      atp_c + coa_c + succ_c <=> adp_c + pi_c + succoa_c\n",
      "3%    1.76   PYK         adp_c + h_c + pep_c --> atp_c + pyr_c\n",
      "\n",
      "CONSUMING REACTIONS -- ATP (atp_c)\n",
      "----------------------------------\n",
      "%      FLUX  RXN ID      REACTION\n",
      "---  ------  ----------  --------------------------------------------------\n",
      "76%  52.3    Biomass...  1.496 3pg_c + 3.7478 accoa_c + 59.81 atp_c + 0....\n",
      "12%   8.39   ATPM        atp_c + h2o_c --> adp_c + h_c + pi_c\n",
      "11%   7.48   PFK         atp_c + f6p_c --> adp_c + fdp_c + h_c\n",
      "0%    0.223  GLNS        atp_c + glu__L_c + nh4_c --> adp_c + gln__L_c +...\n"
     ]
    }
   ],
   "source": [
    "model.metabolites.atp_c.summary()"
   ]
  },
  {
   "cell_type": "markdown",
   "metadata": {},
   "source": [
    "## Changing the Objectives"
   ]
  },
  {
   "cell_type": "markdown",
   "metadata": {
    "deletable": true,
    "editable": true
   },
   "source": [
    "The objective function is determined from the objective_coefficient attribute of the objective reaction(s). Generally, a \"biomass\" function which describes the composition of metabolites which make up a cell is used."
   ]
  },
  {
   "cell_type": "code",
   "execution_count": 7,
   "metadata": {
    "collapsed": false,
    "deletable": true,
    "editable": true
   },
   "outputs": [],
   "source": [
    "biomass_rxn = model.reactions.get_by_id(\"Biomass_Ecoli_core\")"
   ]
  },
  {
   "cell_type": "markdown",
   "metadata": {
    "deletable": true,
    "editable": true
   },
   "source": [
    "Currently in the model, there is only one reaction in the objective (the biomass reaction), with an linear coefficient of 1."
   ]
  },
  {
   "cell_type": "code",
   "execution_count": 8,
   "metadata": {
    "collapsed": false,
    "deletable": true,
    "editable": true
   },
   "outputs": [
    {
     "data": {
      "text/plain": [
       "{<Reaction Biomass_Ecoli_core at 0x7f8cacffd2e8>: 1.0}"
      ]
     },
     "execution_count": 8,
     "metadata": {},
     "output_type": "execute_result"
    }
   ],
   "source": [
    "from cobra.util.solver import linear_reaction_coefficients\n",
    "linear_reaction_coefficients(model)"
   ]
  },
  {
   "cell_type": "markdown",
   "metadata": {
    "deletable": true,
    "editable": true
   },
   "source": [
    "The objective function can be changed by assigning Model.objective, which can be a reaction object (or just it's name), or a `dict` of `{Reaction: objective_coefficient}`."
   ]
  },
  {
   "cell_type": "code",
   "execution_count": 9,
   "metadata": {
    "collapsed": false,
    "deletable": true,
    "editable": true
   },
   "outputs": [
    {
     "data": {
      "text/plain": [
       "{<Reaction ATPM at 0x7f8cacffd358>: 1.0}"
      ]
     },
     "execution_count": 9,
     "metadata": {},
     "output_type": "execute_result"
    }
   ],
   "source": [
    "# change the objective to ATPM\n",
    "model.objective = \"ATPM\"\n",
    "\n",
    "# The upper bound should be 1000, so that we get\n",
    "# the actual optimal value\n",
    "model.reactions.get_by_id(\"ATPM\").upper_bound = 1000.\n",
    "linear_reaction_coefficients(model)"
   ]
  },
  {
   "cell_type": "code",
   "execution_count": 10,
   "metadata": {
    "collapsed": false,
    "deletable": true,
    "editable": true
   },
   "outputs": [
    {
     "data": {
      "text/plain": [
       "174.99999999999966"
      ]
     },
     "execution_count": 10,
     "metadata": {},
     "output_type": "execute_result"
    }
   ],
   "source": [
    "model.optimize().objective_value"
   ]
  },
  {
   "cell_type": "markdown",
   "metadata": {
    "deletable": true,
    "editable": true
   },
   "source": [
    "We can also have more complicated objectives including quadratic terms."
   ]
  },
  {
   "cell_type": "markdown",
   "metadata": {},
   "source": [
    "## Running FVA"
   ]
  },
  {
   "cell_type": "markdown",
   "metadata": {
    "deletable": true,
    "editable": true
   },
   "source": [
    "FBA will not give always give unique solution, because multiple flux states can achieve the same optimum. FVA (or flux variability analysis) finds the ranges of each metabolic flux at the optimum."
   ]
  },
  {
   "cell_type": "code",
   "execution_count": 11,
   "metadata": {
    "collapsed": false,
    "deletable": true,
    "editable": true
   },
   "outputs": [
    {
     "data": {
      "text/html": [
       "<div>\n",
       "<table border=\"1\" class=\"dataframe\">\n",
       "  <thead>\n",
       "    <tr style=\"text-align: right;\">\n",
       "      <th></th>\n",
       "      <th>maximum</th>\n",
       "      <th>minimum</th>\n",
       "    </tr>\n",
       "  </thead>\n",
       "  <tbody>\n",
       "    <tr>\n",
       "      <th>ACALD</th>\n",
       "      <td>-8.239214e-30</td>\n",
       "      <td>-5.247085e-14</td>\n",
       "    </tr>\n",
       "    <tr>\n",
       "      <th>ACALDt</th>\n",
       "      <td>0.000000e+00</td>\n",
       "      <td>-5.247085e-14</td>\n",
       "    </tr>\n",
       "    <tr>\n",
       "      <th>ACKr</th>\n",
       "      <td>-2.048309e-29</td>\n",
       "      <td>-8.024953e-14</td>\n",
       "    </tr>\n",
       "    <tr>\n",
       "      <th>ACONTa</th>\n",
       "      <td>2.000000e+01</td>\n",
       "      <td>2.000000e+01</td>\n",
       "    </tr>\n",
       "    <tr>\n",
       "      <th>ACONTb</th>\n",
       "      <td>2.000000e+01</td>\n",
       "      <td>2.000000e+01</td>\n",
       "    </tr>\n",
       "    <tr>\n",
       "      <th>ACt2r</th>\n",
       "      <td>-6.407673e-30</td>\n",
       "      <td>-8.024953e-14</td>\n",
       "    </tr>\n",
       "    <tr>\n",
       "      <th>ADK1</th>\n",
       "      <td>3.410605e-13</td>\n",
       "      <td>0.000000e+00</td>\n",
       "    </tr>\n",
       "    <tr>\n",
       "      <th>AKGDH</th>\n",
       "      <td>2.000000e+01</td>\n",
       "      <td>2.000000e+01</td>\n",
       "    </tr>\n",
       "    <tr>\n",
       "      <th>AKGt2r</th>\n",
       "      <td>0.000000e+00</td>\n",
       "      <td>-2.902643e-14</td>\n",
       "    </tr>\n",
       "    <tr>\n",
       "      <th>ALCD2x</th>\n",
       "      <td>6.833839e-30</td>\n",
       "      <td>-4.547474e-14</td>\n",
       "    </tr>\n",
       "    <tr>\n",
       "      <th>ATPM</th>\n",
       "      <td>1.750000e+02</td>\n",
       "      <td>1.750000e+02</td>\n",
       "    </tr>\n",
       "    <tr>\n",
       "      <th>ATPS4r</th>\n",
       "      <td>1.350000e+02</td>\n",
       "      <td>1.350000e+02</td>\n",
       "    </tr>\n",
       "    <tr>\n",
       "      <th>Biomass_Ecoli_core</th>\n",
       "      <td>1.841974e-15</td>\n",
       "      <td>0.000000e+00</td>\n",
       "    </tr>\n",
       "    <tr>\n",
       "      <th>CO2t</th>\n",
       "      <td>-6.000000e+01</td>\n",
       "      <td>-6.000000e+01</td>\n",
       "    </tr>\n",
       "    <tr>\n",
       "      <th>CS</th>\n",
       "      <td>2.000000e+01</td>\n",
       "      <td>2.000000e+01</td>\n",
       "    </tr>\n",
       "    <tr>\n",
       "      <th>CYTBD</th>\n",
       "      <td>1.200000e+02</td>\n",
       "      <td>1.200000e+02</td>\n",
       "    </tr>\n",
       "    <tr>\n",
       "      <th>D_LACt2</th>\n",
       "      <td>0.000000e+00</td>\n",
       "      <td>-4.400781e-14</td>\n",
       "    </tr>\n",
       "    <tr>\n",
       "      <th>ENO</th>\n",
       "      <td>2.000000e+01</td>\n",
       "      <td>2.000000e+01</td>\n",
       "    </tr>\n",
       "    <tr>\n",
       "      <th>ETOHt2r</th>\n",
       "      <td>0.000000e+00</td>\n",
       "      <td>-4.547474e-14</td>\n",
       "    </tr>\n",
       "    <tr>\n",
       "      <th>EX_ac_e</th>\n",
       "      <td>8.024953e-14</td>\n",
       "      <td>0.000000e+00</td>\n",
       "    </tr>\n",
       "  </tbody>\n",
       "</table>\n",
       "</div>"
      ],
      "text/plain": [
       "                         maximum       minimum\n",
       "ACALD              -8.239214e-30 -5.247085e-14\n",
       "ACALDt              0.000000e+00 -5.247085e-14\n",
       "ACKr               -2.048309e-29 -8.024953e-14\n",
       "ACONTa              2.000000e+01  2.000000e+01\n",
       "ACONTb              2.000000e+01  2.000000e+01\n",
       "ACt2r              -6.407673e-30 -8.024953e-14\n",
       "ADK1                3.410605e-13  0.000000e+00\n",
       "AKGDH               2.000000e+01  2.000000e+01\n",
       "AKGt2r              0.000000e+00 -2.902643e-14\n",
       "ALCD2x              6.833839e-30 -4.547474e-14\n",
       "ATPM                1.750000e+02  1.750000e+02\n",
       "ATPS4r              1.350000e+02  1.350000e+02\n",
       "Biomass_Ecoli_core  1.841974e-15  0.000000e+00\n",
       "CO2t               -6.000000e+01 -6.000000e+01\n",
       "CS                  2.000000e+01  2.000000e+01\n",
       "CYTBD               1.200000e+02  1.200000e+02\n",
       "D_LACt2             0.000000e+00 -4.400781e-14\n",
       "ENO                 2.000000e+01  2.000000e+01\n",
       "ETOHt2r             0.000000e+00 -4.547474e-14\n",
       "EX_ac_e             8.024953e-14  0.000000e+00"
      ]
     },
     "execution_count": 11,
     "metadata": {},
     "output_type": "execute_result"
    }
   ],
   "source": [
    "cobra.flux_analysis.flux_variability_analysis(model, model.reactions[:20])"
   ]
  },
  {
   "cell_type": "markdown",
   "metadata": {
    "deletable": true,
    "editable": true
   },
   "source": [
    "Setting parameter `fraction_of_optimium=0.90` would give the flux ranges for reactions at 90% optimality."
   ]
  },
  {
   "cell_type": "code",
   "execution_count": 12,
   "metadata": {
    "collapsed": false,
    "deletable": true,
    "editable": true
   },
   "outputs": [
    {
     "data": {
      "text/html": [
       "<div>\n",
       "<table border=\"1\" class=\"dataframe\">\n",
       "  <thead>\n",
       "    <tr style=\"text-align: right;\">\n",
       "      <th></th>\n",
       "      <th>maximum</th>\n",
       "      <th>minimum</th>\n",
       "    </tr>\n",
       "  </thead>\n",
       "  <tbody>\n",
       "    <tr>\n",
       "      <th>ACALD</th>\n",
       "      <td>0.000000</td>\n",
       "      <td>-2.692308</td>\n",
       "    </tr>\n",
       "    <tr>\n",
       "      <th>ACALDt</th>\n",
       "      <td>0.000000</td>\n",
       "      <td>-2.692308</td>\n",
       "    </tr>\n",
       "    <tr>\n",
       "      <th>ACKr</th>\n",
       "      <td>0.000000</td>\n",
       "      <td>-4.117647</td>\n",
       "    </tr>\n",
       "    <tr>\n",
       "      <th>ACONTa</th>\n",
       "      <td>20.000000</td>\n",
       "      <td>8.461538</td>\n",
       "    </tr>\n",
       "    <tr>\n",
       "      <th>ACONTb</th>\n",
       "      <td>20.000000</td>\n",
       "      <td>8.461538</td>\n",
       "    </tr>\n",
       "    <tr>\n",
       "      <th>ACt2r</th>\n",
       "      <td>0.000000</td>\n",
       "      <td>-4.117647</td>\n",
       "    </tr>\n",
       "    <tr>\n",
       "      <th>ADK1</th>\n",
       "      <td>17.500000</td>\n",
       "      <td>0.000000</td>\n",
       "    </tr>\n",
       "    <tr>\n",
       "      <th>AKGDH</th>\n",
       "      <td>20.000000</td>\n",
       "      <td>2.500000</td>\n",
       "    </tr>\n",
       "    <tr>\n",
       "      <th>AKGt2r</th>\n",
       "      <td>0.000000</td>\n",
       "      <td>-1.489362</td>\n",
       "    </tr>\n",
       "    <tr>\n",
       "      <th>ALCD2x</th>\n",
       "      <td>0.000000</td>\n",
       "      <td>-2.333333</td>\n",
       "    </tr>\n",
       "    <tr>\n",
       "      <th>ATPM</th>\n",
       "      <td>175.000000</td>\n",
       "      <td>157.500000</td>\n",
       "    </tr>\n",
       "    <tr>\n",
       "      <th>ATPS4r</th>\n",
       "      <td>143.653846</td>\n",
       "      <td>117.500000</td>\n",
       "    </tr>\n",
       "    <tr>\n",
       "      <th>Biomass_Ecoli_core</th>\n",
       "      <td>0.092946</td>\n",
       "      <td>0.000000</td>\n",
       "    </tr>\n",
       "    <tr>\n",
       "      <th>CO2t</th>\n",
       "      <td>-48.333333</td>\n",
       "      <td>-60.000000</td>\n",
       "    </tr>\n",
       "    <tr>\n",
       "      <th>CS</th>\n",
       "      <td>20.000000</td>\n",
       "      <td>8.461538</td>\n",
       "    </tr>\n",
       "    <tr>\n",
       "      <th>CYTBD</th>\n",
       "      <td>120.000000</td>\n",
       "      <td>103.529412</td>\n",
       "    </tr>\n",
       "    <tr>\n",
       "      <th>D_LACt2</th>\n",
       "      <td>0.000000</td>\n",
       "      <td>-2.258065</td>\n",
       "    </tr>\n",
       "    <tr>\n",
       "      <th>ENO</th>\n",
       "      <td>20.000000</td>\n",
       "      <td>8.461538</td>\n",
       "    </tr>\n",
       "    <tr>\n",
       "      <th>ETOHt2r</th>\n",
       "      <td>0.000000</td>\n",
       "      <td>-2.333333</td>\n",
       "    </tr>\n",
       "    <tr>\n",
       "      <th>EX_ac_e</th>\n",
       "      <td>4.117647</td>\n",
       "      <td>0.000000</td>\n",
       "    </tr>\n",
       "  </tbody>\n",
       "</table>\n",
       "</div>"
      ],
      "text/plain": [
       "                       maximum     minimum\n",
       "ACALD                 0.000000   -2.692308\n",
       "ACALDt                0.000000   -2.692308\n",
       "ACKr                  0.000000   -4.117647\n",
       "ACONTa               20.000000    8.461538\n",
       "ACONTb               20.000000    8.461538\n",
       "ACt2r                 0.000000   -4.117647\n",
       "ADK1                 17.500000    0.000000\n",
       "AKGDH                20.000000    2.500000\n",
       "AKGt2r                0.000000   -1.489362\n",
       "ALCD2x                0.000000   -2.333333\n",
       "ATPM                175.000000  157.500000\n",
       "ATPS4r              143.653846  117.500000\n",
       "Biomass_Ecoli_core    0.092946    0.000000\n",
       "CO2t                -48.333333  -60.000000\n",
       "CS                   20.000000    8.461538\n",
       "CYTBD               120.000000  103.529412\n",
       "D_LACt2               0.000000   -2.258065\n",
       "ENO                  20.000000    8.461538\n",
       "ETOHt2r               0.000000   -2.333333\n",
       "EX_ac_e               4.117647    0.000000"
      ]
     },
     "execution_count": 12,
     "metadata": {},
     "output_type": "execute_result"
    }
   ],
   "source": [
    "cobra.flux_analysis.flux_variability_analysis(\n",
    "    model, model.reactions[:20], fraction_of_optimum=0.9)"
   ]
  },
  {
   "cell_type": "markdown",
   "metadata": {
    "deletable": true,
    "editable": true
   },
   "source": [
    "The standard FVA may contain loops, i.e. high absolute flux values that only can be high if they are allowed to participate in loops (a mathematical artifact that cannot happen in vivo). Use the `loopless` argument to avoid such loops (no loops for the first 20 reactions so results are the same as above)."
   ]
  },
  {
   "cell_type": "code",
   "execution_count": 13,
   "metadata": {
    "collapsed": false,
    "deletable": true,
    "editable": true
   },
   "outputs": [
    {
     "data": {
      "text/html": [
       "<div>\n",
       "<table border=\"1\" class=\"dataframe\">\n",
       "  <thead>\n",
       "    <tr style=\"text-align: right;\">\n",
       "      <th></th>\n",
       "      <th>maximum</th>\n",
       "      <th>minimum</th>\n",
       "    </tr>\n",
       "  </thead>\n",
       "  <tbody>\n",
       "    <tr>\n",
       "      <th>ACALD</th>\n",
       "      <td>0.000000</td>\n",
       "      <td>-2.692308</td>\n",
       "    </tr>\n",
       "    <tr>\n",
       "      <th>ACALDt</th>\n",
       "      <td>0.000000</td>\n",
       "      <td>-2.692308</td>\n",
       "    </tr>\n",
       "    <tr>\n",
       "      <th>ACKr</th>\n",
       "      <td>0.000000</td>\n",
       "      <td>-4.117647</td>\n",
       "    </tr>\n",
       "    <tr>\n",
       "      <th>ACONTa</th>\n",
       "      <td>20.000000</td>\n",
       "      <td>8.461538</td>\n",
       "    </tr>\n",
       "    <tr>\n",
       "      <th>ACONTb</th>\n",
       "      <td>20.000000</td>\n",
       "      <td>8.461538</td>\n",
       "    </tr>\n",
       "    <tr>\n",
       "      <th>ACt2r</th>\n",
       "      <td>0.000000</td>\n",
       "      <td>-4.117647</td>\n",
       "    </tr>\n",
       "    <tr>\n",
       "      <th>ADK1</th>\n",
       "      <td>17.500000</td>\n",
       "      <td>0.000000</td>\n",
       "    </tr>\n",
       "    <tr>\n",
       "      <th>AKGDH</th>\n",
       "      <td>20.000000</td>\n",
       "      <td>2.500000</td>\n",
       "    </tr>\n",
       "    <tr>\n",
       "      <th>AKGt2r</th>\n",
       "      <td>0.000000</td>\n",
       "      <td>-1.489362</td>\n",
       "    </tr>\n",
       "    <tr>\n",
       "      <th>ALCD2x</th>\n",
       "      <td>0.000000</td>\n",
       "      <td>-2.333333</td>\n",
       "    </tr>\n",
       "    <tr>\n",
       "      <th>ATPM</th>\n",
       "      <td>175.000000</td>\n",
       "      <td>157.500000</td>\n",
       "    </tr>\n",
       "    <tr>\n",
       "      <th>ATPS4r</th>\n",
       "      <td>143.653846</td>\n",
       "      <td>117.500000</td>\n",
       "    </tr>\n",
       "    <tr>\n",
       "      <th>Biomass_Ecoli_core</th>\n",
       "      <td>0.092946</td>\n",
       "      <td>0.000000</td>\n",
       "    </tr>\n",
       "    <tr>\n",
       "      <th>CO2t</th>\n",
       "      <td>-48.333333</td>\n",
       "      <td>-60.000000</td>\n",
       "    </tr>\n",
       "    <tr>\n",
       "      <th>CS</th>\n",
       "      <td>20.000000</td>\n",
       "      <td>8.461538</td>\n",
       "    </tr>\n",
       "    <tr>\n",
       "      <th>CYTBD</th>\n",
       "      <td>120.000000</td>\n",
       "      <td>103.529412</td>\n",
       "    </tr>\n",
       "    <tr>\n",
       "      <th>D_LACt2</th>\n",
       "      <td>0.000000</td>\n",
       "      <td>-2.258065</td>\n",
       "    </tr>\n",
       "    <tr>\n",
       "      <th>ENO</th>\n",
       "      <td>20.000000</td>\n",
       "      <td>8.461538</td>\n",
       "    </tr>\n",
       "    <tr>\n",
       "      <th>ETOHt2r</th>\n",
       "      <td>0.000000</td>\n",
       "      <td>-2.333333</td>\n",
       "    </tr>\n",
       "    <tr>\n",
       "      <th>EX_ac_e</th>\n",
       "      <td>4.117647</td>\n",
       "      <td>0.000000</td>\n",
       "    </tr>\n",
       "  </tbody>\n",
       "</table>\n",
       "</div>"
      ],
      "text/plain": [
       "                       maximum     minimum\n",
       "ACALD                 0.000000   -2.692308\n",
       "ACALDt                0.000000   -2.692308\n",
       "ACKr                  0.000000   -4.117647\n",
       "ACONTa               20.000000    8.461538\n",
       "ACONTb               20.000000    8.461538\n",
       "ACt2r                 0.000000   -4.117647\n",
       "ADK1                 17.500000    0.000000\n",
       "AKGDH                20.000000    2.500000\n",
       "AKGt2r                0.000000   -1.489362\n",
       "ALCD2x                0.000000   -2.333333\n",
       "ATPM                175.000000  157.500000\n",
       "ATPS4r              143.653846  117.500000\n",
       "Biomass_Ecoli_core    0.092946    0.000000\n",
       "CO2t                -48.333333  -60.000000\n",
       "CS                   20.000000    8.461538\n",
       "CYTBD               120.000000  103.529412\n",
       "D_LACt2               0.000000   -2.258065\n",
       "ENO                  20.000000    8.461538\n",
       "ETOHt2r               0.000000   -2.333333\n",
       "EX_ac_e               4.117647    0.000000"
      ]
     },
     "execution_count": 13,
     "metadata": {},
     "output_type": "execute_result"
    }
   ],
   "source": [
    "cobra.flux_analysis.flux_variability_analysis(\n",
    "    model, model.reactions[:20], fraction_of_optimum=0.9, loopless=True)"
   ]
  },
  {
   "cell_type": "markdown",
   "metadata": {},
   "source": [
    "### Running FVA in summary methods"
   ]
  },
  {
   "cell_type": "markdown",
   "metadata": {
    "deletable": true,
    "editable": true
   },
   "source": [
    "Flux variability analysis can also be embedded in calls to summary methods. For instance, the expected variability in substrate consumption and product formation can be quickly found by"
   ]
  },
  {
   "cell_type": "code",
   "execution_count": 14,
   "metadata": {
    "collapsed": false,
    "deletable": true,
    "editable": true
   },
   "outputs": [
    {
     "name": "stdout",
     "output_type": "stream",
     "text": [
      "IN FLUXES                     OUT FLUXES                    OBJECTIVES\n",
      "----------------------------  ----------------------------  ------------\n",
      "id          Flux  Range       id          Flux  Range       ATPM  175\n",
      "--------  ------  ----------  --------  ------  ----------\n",
      "o2_e          60  [55.9, 60]  co2_e         60  [54.2, 60]\n",
      "glc__D_e      10  [9.5, 10]   h2o_e         60  [54.2, 60]\n",
      "nh4_e          0  [0, 0.673]  for_e          0  [0, 5.83]\n",
      "pi_e           0  [0, 0.171]  h_e            0  [0, 5.83]\n",
      "                              ac_e           0  [0, 2.06]\n",
      "                              acald_e        0  [0, 1.35]\n",
      "                              pyr_e          0  [0, 1.35]\n",
      "                              etoh_e         0  [0, 1.17]\n",
      "                              lac__D_e       0  [0, 1.13]\n",
      "                              succ_e         0  [0, 0.875]\n",
      "                              akg_e          0  [0, 0.745]\n",
      "                              glu__L_e       0  [0, 0.673]\n"
     ]
    }
   ],
   "source": [
    "model.optimize()\n",
    "model.summary(fva=0.95)"
   ]
  },
  {
   "cell_type": "markdown",
   "metadata": {
    "deletable": true,
    "editable": true
   },
   "source": [
    "Similarly, variability in metabolite mass balances can also be checked with flux variability analysis."
   ]
  },
  {
   "cell_type": "code",
   "execution_count": 15,
   "metadata": {
    "collapsed": false,
    "deletable": true,
    "editable": true
   },
   "outputs": [
    {
     "name": "stdout",
     "output_type": "stream",
     "text": [
      "PRODUCING REACTIONS -- Pyruvate (pyr_c)\n",
      "---------------------------------------\n",
      "%       FLUX  RANGE       RXN ID      REACTION\n",
      "----  ------  ----------  ----------  ----------------------------------------\n",
      "50%       10  [0, -5.83]  GLCpts      glc__D_e + pep_c --> g6p_c + pyr_c\n",
      "50%       10  [0, -5.83]  PYK         adp_c + h_c + pep_c --> atp_c + pyr_c\n",
      "\n",
      "CONSUMING REACTIONS -- Pyruvate (pyr_c)\n",
      "---------------------------------------\n",
      "%       FLUX  RANGE       RXN ID      REACTION\n",
      "----  ------  ----------  ----------  ----------------------------------------\n",
      "100%      20  [0, 5.83]   PDH         coa_c + nad_c + pyr_c --> accoa_c + c...\n",
      "0%         0  [0, 5.83]   Biomass...  1.496 3pg_c + 3.7478 accoa_c + 59.81 ...\n",
      "0%         0  [0, 5.83]   FRUpts2     fru_e + pep_c --> f6p_c + pyr_c\n",
      "0%         0  [0, 5.83]   LDH_D       lac__D_c + nad_c <=> h_c + nadh_c + p...\n",
      "0%         0  [0, 5.83]   ME1         mal__L_c + nad_c --> co2_c + nadh_c +...\n",
      "0%         0  [0, 5.83]   ME2         mal__L_c + nadp_c --> co2_c + nadph_c...\n",
      "0%         0  [0, 5.83]   PFL         coa_c + pyr_c --> accoa_c + for_c\n",
      "0%         0  [0, 5.83]   PPS         atp_c + h2o_c + pyr_c --> amp_c + 2.0...\n",
      "0%         0  [0, 5.83]   PYRt2       h_e + pyr_e <=> h_c + pyr_c\n"
     ]
    }
   ],
   "source": [
    "model.metabolites.pyr_c.summary(fva=0.95)"
   ]
  },
  {
   "cell_type": "markdown",
   "metadata": {
    "deletable": true,
    "editable": true
   },
   "source": [
    "In these summary methods, the values are reported as a the center point +/- the range of the FVA solution, calculated from the maximum and minimum values."
   ]
  },
  {
   "cell_type": "markdown",
   "metadata": {},
   "source": [
    "## Running pFBA"
   ]
  },
  {
   "cell_type": "markdown",
   "metadata": {
    "deletable": true,
    "editable": true
   },
   "source": [
    "Parsimonious FBA (often written pFBA) finds a flux distribution which gives the optimal growth rate, but minimizes the total sum of flux. This involves solving two sequential linear programs, but is handled transparently by cobrapy. For more details on pFBA, please see [Lewis et al. (2010)](http://dx.doi.org/10.1038/msb.2010.47)."
   ]
  },
  {
   "cell_type": "code",
   "execution_count": 16,
   "metadata": {
    "collapsed": false,
    "deletable": true,
    "editable": true
   },
   "outputs": [],
   "source": [
    "model.objective = 'Biomass_Ecoli_core'\n",
    "fba_solution = model.optimize()\n",
    "pfba_solution = cobra.flux_analysis.optimize_minimal_flux(model)"
   ]
  },
  {
   "cell_type": "markdown",
   "metadata": {
    "deletable": true,
    "editable": true
   },
   "source": [
    "These functions should give approximately the same objective value."
   ]
  },
  {
   "cell_type": "code",
   "execution_count": 17,
   "metadata": {
    "collapsed": false,
    "deletable": true,
    "editable": true
   },
   "outputs": [
    {
     "data": {
      "text/plain": [
       "2.2204460492503131e-16"
      ]
     },
     "execution_count": 17,
     "metadata": {},
     "output_type": "execute_result"
    }
   ],
   "source": [
    "abs(fba_solution.fluxes[\"Biomass_Ecoli_core\"] - pfba_solution.fluxes[\n",
    "    \"Biomass_Ecoli_core\"])"
   ]
  }
 ],
 "metadata": {
  "kernelspec": {
   "display_name": "Python 3",
   "language": "python",
   "name": "python3"
  },
  "language_info": {
   "codemirror_mode": {
    "name": "ipython",
    "version": 3
   },
   "file_extension": ".py",
   "mimetype": "text/x-python",
   "name": "python",
   "nbconvert_exporter": "python",
   "pygments_lexer": "ipython3",
   "version": "3.5.2+"
  }
 },
 "nbformat": 4,
 "nbformat_minor": 0
}
