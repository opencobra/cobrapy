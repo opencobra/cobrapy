{
 "cells": [
  {
   "cell_type": "markdown",
   "metadata": {},
   "source": [
    "# Loopless FBA\n",
    "\n",
    "The goal of this procedure is identification of a thermodynamically consistent flux state without loops, as implied by the name.\n",
    "\n",
    "Usually, the model has the following constraints.\n",
    "$$ S \\cdot v = 0 $$\n",
    "$$ lb \\le v \\le ub $$\n",
    "\n",
    "However, this will allow for thermodynamically infeasible loops (referred to as type 3 loops) to occur, where flux flows around a cycle without any net change of metabolites. For most cases, this is not a major issue, as solutions with these loops can usually be converted to equivalent solutions without them. However, if a flux state is desired which does not exhibit any of these loops, loopless FBA can be used. The formulation used here is modified from [Schellenberger et al.](http://dx.doi.org/10.1016/j.bpj.2010.12.3707)\n",
    "\n",
    "We can make the model irreversible, so that all reactions will satisfy\n",
    "$$ 0 \\le lb \\le v \\le ub \\le \\max(ub) $$\n",
    "\n",
    "We will add in boolean indicators as well, such that\n",
    "$$ \\max(ub) i \\ge v $$\n",
    "$$ i \\in {0, 1} $$\n",
    "\n",
    "We also want to ensure that an entry in the row space of S also exists with negative values wherever v is nonzero. In this expression, $1-i$ acts as a not to indicate inactivity of a reaction.\n",
    "\n",
    "$$ S^\\mathsf T x - (1 - i) (\\max(ub) + 1) \\le -1 $$\n",
    "\n",
    "We will construct an LP integrating both constraints.\n",
    "\n",
    "$$ \\left(\n",
    "\\begin{matrix}\n",
    "S & 0 & 0\\\\\n",
    "-I & \\max(ub)I & 0 \\\\\n",
    "0 & (\\max(ub) + 1)I & S^\\mathsf T\n",
    "\\end{matrix}\n",
    "\\right)\n",
    "\\cdot\n",
    "\\left(\n",
    "\\begin{matrix}\n",
    "v \\\\\n",
    "i \\\\\n",
    "x\n",
    "\\end{matrix}\n",
    "\\right)\n",
    "\\begin{matrix}\n",
    "&=& 0 \\\\\n",
    "&\\ge& 0 \\\\\n",
    "&\\le& \\max(ub)\n",
    "\\end{matrix}$$\n",
    "\n",
    "Note that these extra constraints are not applied to boundary reactions which bring metabolites in and out of the system."
   ]
  },
  {
   "cell_type": "code",
   "execution_count": 1,
   "metadata": {
    "collapsed": false
   },
   "outputs": [],
   "source": [
    "from matplotlib.pylab import *\n",
    "%matplotlib inline\n",
    "\n",
    "import cobra.test\n",
    "from cobra import Reaction, Metabolite, Model\n",
    "from cobra.flux_analysis.loopless import construct_loopless_model\n",
    "from cobra.solvers import get_solver_name"
   ]
  },
  {
   "cell_type": "markdown",
   "metadata": {},
   "source": [
    "We will demonstrate with a toy model which has a simple loop cycling A -> B -> C -> A, with A allowed to enter the system and C allowed to leave. A graphical view of the system is drawn below:"
   ]
  },
  {
   "cell_type": "code",
   "execution_count": 2,
   "metadata": {
    "collapsed": false
   },
   "outputs": [
    {
     "data": {
      "image/png": "[encoded data removed]",
      "text/plain": [
       "<matplotlib.figure.Figure at 0x7f003ad8eb50>"
      ]
     },
     "metadata": {},
     "output_type": "display_data"
    }
   ],
   "source": [
    "figure(figsize=(10.5, 4.5), frameon=False)\n",
    "gca().axis(\"off\")\n",
    "xlim(0.5, 3.5)\n",
    "ylim(0.7, 2.2)\n",
    "arrow_params = {\"head_length\": 0.08, \"head_width\": 0.1, \"ec\": \"k\", \"fc\": \"k\"}\n",
    "text_params = {\"fontsize\": 25, \"horizontalalignment\": \"center\", \"verticalalignment\": \"center\"}\n",
    "arrow(0.5, 1, 0.85, 0, **arrow_params)  # EX_A\n",
    "arrow(1.5, 1, 0.425, 0.736, **arrow_params)  # v1\n",
    "arrow(2.04, 1.82, 0.42, -0.72, **arrow_params)  # v2\n",
    "arrow(2.4, 1, -0.75, 0, **arrow_params)  # v3\n",
    "arrow(2.6, 1, 0.75, 0, **arrow_params)\n",
    "# reaction labels\n",
    "text(0.9, 1.15, \"EX_A\", **text_params)\n",
    "text(1.6, 1.5, r\"v$_1$\", **text_params)\n",
    "text(2.4, 1.5, r\"v$_2$\", **text_params)\n",
    "text(2, 0.85, r\"v$_3$\", **text_params)\n",
    "text(2.9, 1.15, \"DM_C\", **text_params)\n",
    "# metabolite labels\n",
    "scatter(1.5, 1, s=250, color='#c994c7')\n",
    "text(1.5, 0.9, \"A\", **text_params)\n",
    "scatter(2, 1.84, s=250, color='#c994c7')\n",
    "text(2, 1.95, \"B\", **text_params)\n",
    "scatter(2.5, 1, s=250, color='#c994c7')\n",
    "text(2.5, 0.9, \"C\", **text_params);"
   ]
  },
  {
   "cell_type": "code",
   "execution_count": 3,
   "metadata": {
    "collapsed": false
   },
   "outputs": [],
   "source": [
    "test_model = Model()\n",
    "test_model.add_metabolites(Metabolite(\"A\"))\n",
    "test_model.add_metabolites(Metabolite(\"B\"))\n",
    "test_model.add_metabolites(Metabolite(\"C\"))\n",
    "EX_A = Reaction(\"EX_A\")\n",
    "EX_A.add_metabolites({test_model.metabolites.A: 1})\n",
    "DM_C = Reaction(\"DM_C\")\n",
    "DM_C.add_metabolites({test_model.metabolites.C: -1})\n",
    "v1 = Reaction(\"v1\")\n",
    "v1.add_metabolites({test_model.metabolites.A: -1, test_model.metabolites.B: 1})\n",
    "v2 = Reaction(\"v2\")\n",
    "v2.add_metabolites({test_model.metabolites.B: -1, test_model.metabolites.C: 1})\n",
    "v3 = Reaction(\"v3\")\n",
    "v3.add_metabolites({test_model.metabolites.C: -1, test_model.metabolites.A: 1})\n",
    "DM_C.objective_coefficient = 1\n",
    "test_model.add_reactions([EX_A, DM_C, v1, v2, v3])"
   ]
  },
  {
   "cell_type": "markdown",
   "metadata": {},
   "source": [
    "While this model contains a loop, a flux state exists which has no flux through reaction v3, and is identified by loopless FBA."
   ]
  },
  {
   "cell_type": "code",
   "execution_count": 4,
   "metadata": {
    "collapsed": false
   },
   "outputs": [
    {
     "data": {
      "text/plain": [
       "<Solution 1000.00 at 0x7f003ad82850>"
      ]
     },
     "execution_count": 4,
     "metadata": {},
     "output_type": "execute_result"
    }
   ],
   "source": [
    "construct_loopless_model(test_model).optimize()"
   ]
  },
  {
   "cell_type": "markdown",
   "metadata": {},
   "source": [
    "However, if flux is forced through v3, then there is no longer a feasible loopless solution."
   ]
  },
  {
   "cell_type": "code",
   "execution_count": 5,
   "metadata": {
    "collapsed": false
   },
   "outputs": [
    {
     "data": {
      "text/plain": [
       "<Solution 'infeasible' at 0x7f003ad82f10>"
      ]
     },
     "execution_count": 5,
     "metadata": {},
     "output_type": "execute_result"
    }
   ],
   "source": [
    "v3.lower_bound = 1\n",
    "construct_loopless_model(test_model).optimize()"
   ]
  },
  {
   "cell_type": "markdown",
   "metadata": {},
   "source": [
    "Loopless FBA is also possible on genome scale models, but it requires a capable MILP solver."
   ]
  },
  {
   "cell_type": "code",
   "execution_count": 6,
   "metadata": {
    "collapsed": false
   },
   "outputs": [
    {
     "data": {
      "text/plain": [
       "<Solution 0.38 at 0x7f003a496190>"
      ]
     },
     "execution_count": 6,
     "metadata": {},
     "output_type": "execute_result"
    }
   ],
   "source": [
    "salmonella = cobra.test.create_test_model(\"salmonella\")\n",
    "construct_loopless_model(salmonella).optimize(solver=get_solver_name(mip=True))"
   ]
  },
  {
   "cell_type": "code",
   "execution_count": 7,
   "metadata": {
    "collapsed": false
   },
   "outputs": [
    {
     "data": {
      "text/plain": [
       "<Solution 0.98 at 0x7f003ae06b50>"
      ]
     },
     "execution_count": 7,
     "metadata": {},
     "output_type": "execute_result"
    }
   ],
   "source": [
    "ecoli = cobra.test.create_test_model(\"ecoli\")\n",
    "construct_loopless_model(ecoli).optimize(solver=get_solver_name(mip=True))"
   ]
  }
 ],
 "metadata": {
  "kernelspec": {
   "display_name": "Python 2",
   "language": "python",
   "name": "python2"
  },
  "language_info": {
   "codemirror_mode": {
    "name": "ipython",
    "version": 2
   },
   "file_extension": ".py",
   "mimetype": "text/x-python",
   "name": "python",
   "nbconvert_exporter": "python",
   "pygments_lexer": "ipython2",
   "version": "2.7.6"
  }
 },
 "nbformat": 4,
 "nbformat_minor": 0
}
