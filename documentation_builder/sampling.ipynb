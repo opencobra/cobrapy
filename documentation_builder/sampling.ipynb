{
 "cells": [
  {
   "cell_type": "markdown",
   "metadata": {
    "deletable": true,
    "editable": true
   },
   "source": [
    "# Flux sampling"
   ]
  },
  {
   "cell_type": "markdown",
   "metadata": {
    "deletable": true,
    "editable": true
   },
   "source": [
    "## Basic usage"
   ]
  },
  {
   "cell_type": "markdown",
   "metadata": {
    "deletable": true,
    "editable": true
   },
   "source": [
    "The easiest way to get started with flux sampling is using the `sample` function in the `flux_analysis` submodule. `sample` takes at least two arguments: a cobra model and the number of samples you want to generate."
   ]
  },
  {
   "cell_type": "code",
   "execution_count": 1,
   "metadata": {
    "collapsed": false,
    "deletable": true,
    "editable": true
   },
   "outputs": [
    {
     "data": {
      "text/html": [
       "<div>\n",
       "<table border=\"1\" class=\"dataframe\">\n",
       "  <thead>\n",
       "    <tr style=\"text-align: right;\">\n",
       "      <th></th>\n",
       "      <th>ACALD</th>\n",
       "      <th>ACALDt</th>\n",
       "      <th>ACKr</th>\n",
       "      <th>ACONTa</th>\n",
       "      <th>ACONTb</th>\n",
       "      <th>ACt2r</th>\n",
       "      <th>ADK1</th>\n",
       "      <th>AKGDH</th>\n",
       "      <th>AKGt2r</th>\n",
       "      <th>ALCD2x</th>\n",
       "      <th>...</th>\n",
       "      <th>RPI</th>\n",
       "      <th>SUCCt2_2</th>\n",
       "      <th>SUCCt3</th>\n",
       "      <th>SUCDi</th>\n",
       "      <th>SUCOAS</th>\n",
       "      <th>TALA</th>\n",
       "      <th>THD2</th>\n",
       "      <th>TKT1</th>\n",
       "      <th>TKT2</th>\n",
       "      <th>TPI</th>\n",
       "    </tr>\n",
       "  </thead>\n",
       "  <tbody>\n",
       "    <tr>\n",
       "      <th>0</th>\n",
       "      <td>-2.339236</td>\n",
       "      <td>-0.152676</td>\n",
       "      <td>-1.877464</td>\n",
       "      <td>7.437637</td>\n",
       "      <td>7.437637</td>\n",
       "      <td>-1.877464</td>\n",
       "      <td>54.143240</td>\n",
       "      <td>3.875169</td>\n",
       "      <td>-1.157219</td>\n",
       "      <td>-2.186560</td>\n",
       "      <td>...</td>\n",
       "      <td>-3.552117</td>\n",
       "      <td>1.660578</td>\n",
       "      <td>2.858635</td>\n",
       "      <td>474.950701</td>\n",
       "      <td>-3.875169</td>\n",
       "      <td>3.546353</td>\n",
       "      <td>1.200590</td>\n",
       "      <td>3.546353</td>\n",
       "      <td>3.544035</td>\n",
       "      <td>5.893644</td>\n",
       "    </tr>\n",
       "    <tr>\n",
       "      <th>1</th>\n",
       "      <td>-0.813226</td>\n",
       "      <td>-0.260843</td>\n",
       "      <td>-0.848403</td>\n",
       "      <td>7.446094</td>\n",
       "      <td>7.446094</td>\n",
       "      <td>-0.848403</td>\n",
       "      <td>23.179688</td>\n",
       "      <td>2.091672</td>\n",
       "      <td>-1.993972</td>\n",
       "      <td>-0.552383</td>\n",
       "      <td>...</td>\n",
       "      <td>-4.978821</td>\n",
       "      <td>5.045296</td>\n",
       "      <td>5.227042</td>\n",
       "      <td>280.281097</td>\n",
       "      <td>-2.091672</td>\n",
       "      <td>4.925252</td>\n",
       "      <td>25.913517</td>\n",
       "      <td>4.925252</td>\n",
       "      <td>4.903710</td>\n",
       "      <td>4.359231</td>\n",
       "    </tr>\n",
       "    <tr>\n",
       "      <th>2</th>\n",
       "      <td>-1.737238</td>\n",
       "      <td>-1.090346</td>\n",
       "      <td>-1.504485</td>\n",
       "      <td>3.673979</td>\n",
       "      <td>3.673979</td>\n",
       "      <td>-1.504485</td>\n",
       "      <td>1.861151</td>\n",
       "      <td>0.124687</td>\n",
       "      <td>-0.920067</td>\n",
       "      <td>-0.646892</td>\n",
       "      <td>...</td>\n",
       "      <td>-7.604557</td>\n",
       "      <td>13.679766</td>\n",
       "      <td>14.020844</td>\n",
       "      <td>362.163028</td>\n",
       "      <td>-0.124687</td>\n",
       "      <td>7.586129</td>\n",
       "      <td>28.698793</td>\n",
       "      <td>7.586129</td>\n",
       "      <td>7.578718</td>\n",
       "      <td>2.259146</td>\n",
       "    </tr>\n",
       "    <tr>\n",
       "      <th>3</th>\n",
       "      <td>-1.479399</td>\n",
       "      <td>-1.009047</td>\n",
       "      <td>-1.119954</td>\n",
       "      <td>2.243042</td>\n",
       "      <td>2.243042</td>\n",
       "      <td>-1.119954</td>\n",
       "      <td>23.786315</td>\n",
       "      <td>1.568784</td>\n",
       "      <td>-0.135180</td>\n",
       "      <td>-0.470352</td>\n",
       "      <td>...</td>\n",
       "      <td>-9.978740</td>\n",
       "      <td>9.311852</td>\n",
       "      <td>9.594085</td>\n",
       "      <td>497.755559</td>\n",
       "      <td>-1.568784</td>\n",
       "      <td>9.939400</td>\n",
       "      <td>24.512382</td>\n",
       "      <td>9.939400</td>\n",
       "      <td>9.923580</td>\n",
       "      <td>-0.162328</td>\n",
       "    </tr>\n",
       "    <tr>\n",
       "      <th>4</th>\n",
       "      <td>-2.619776</td>\n",
       "      <td>-0.167045</td>\n",
       "      <td>-0.129338</td>\n",
       "      <td>6.974419</td>\n",
       "      <td>6.974419</td>\n",
       "      <td>-0.129338</td>\n",
       "      <td>6.041671</td>\n",
       "      <td>4.483918</td>\n",
       "      <td>-1.239038</td>\n",
       "      <td>-2.452732</td>\n",
       "      <td>...</td>\n",
       "      <td>-5.239168</td>\n",
       "      <td>14.840527</td>\n",
       "      <td>15.452231</td>\n",
       "      <td>357.429928</td>\n",
       "      <td>-4.483918</td>\n",
       "      <td>5.129795</td>\n",
       "      <td>5.250087</td>\n",
       "      <td>5.129795</td>\n",
       "      <td>5.085812</td>\n",
       "      <td>4.275184</td>\n",
       "    </tr>\n",
       "  </tbody>\n",
       "</table>\n",
       "<p>5 rows × 95 columns</p>\n",
       "</div>"
      ],
      "text/plain": [
       "      ACALD    ACALDt      ACKr    ACONTa    ACONTb     ACt2r       ADK1  \\\n",
       "0 -2.339236 -0.152676 -1.877464  7.437637  7.437637 -1.877464  54.143240   \n",
       "1 -0.813226 -0.260843 -0.848403  7.446094  7.446094 -0.848403  23.179688   \n",
       "2 -1.737238 -1.090346 -1.504485  3.673979  3.673979 -1.504485   1.861151   \n",
       "3 -1.479399 -1.009047 -1.119954  2.243042  2.243042 -1.119954  23.786315   \n",
       "4 -2.619776 -0.167045 -0.129338  6.974419  6.974419 -0.129338   6.041671   \n",
       "\n",
       "      AKGDH    AKGt2r    ALCD2x    ...          RPI   SUCCt2_2     SUCCt3  \\\n",
       "0  3.875169 -1.157219 -2.186560    ...    -3.552117   1.660578   2.858635   \n",
       "1  2.091672 -1.993972 -0.552383    ...    -4.978821   5.045296   5.227042   \n",
       "2  0.124687 -0.920067 -0.646892    ...    -7.604557  13.679766  14.020844   \n",
       "3  1.568784 -0.135180 -0.470352    ...    -9.978740   9.311852   9.594085   \n",
       "4  4.483918 -1.239038 -2.452732    ...    -5.239168  14.840527  15.452231   \n",
       "\n",
       "        SUCDi    SUCOAS      TALA       THD2      TKT1      TKT2       TPI  \n",
       "0  474.950701 -3.875169  3.546353   1.200590  3.546353  3.544035  5.893644  \n",
       "1  280.281097 -2.091672  4.925252  25.913517  4.925252  4.903710  4.359231  \n",
       "2  362.163028 -0.124687  7.586129  28.698793  7.586129  7.578718  2.259146  \n",
       "3  497.755559 -1.568784  9.939400  24.512382  9.939400  9.923580 -0.162328  \n",
       "4  357.429928 -4.483918  5.129795   5.250087  5.129795  5.085812  4.275184  \n",
       "\n",
       "[5 rows x 95 columns]"
      ]
     },
     "execution_count": 1,
     "metadata": {},
     "output_type": "execute_result"
    }
   ],
   "source": [
    "from cobra.test import create_test_model\n",
    "from cobra.flux_analysis import sample\n",
    "\n",
    "model = create_test_model(\"textbook\")\n",
    "s = sample(model, 100)\n",
    "s.head()"
   ]
  },
  {
   "cell_type": "markdown",
   "metadata": {
    "deletable": true,
    "editable": true
   },
   "source": [
    "By default sample uses the `optgp` method based on the [method presented here](http://dx.doi.org/10.1371/journal.pone.0086587) as it is suited for larger models and can run in parallel. By default the sampler uses a single process. This can be changed by using the `processes` argument."
   ]
  },
  {
   "cell_type": "code",
   "execution_count": 2,
   "metadata": {
    "collapsed": false,
    "deletable": true,
    "editable": true
   },
   "outputs": [
    {
     "name": "stdout",
     "output_type": "stream",
     "text": [
      "One process:\n",
      "CPU times: user 8.23 s, sys: 132 ms, total: 8.36 s\n",
      "Wall time: 9.2 s\n",
      "Two processes:\n",
      "CPU times: user 92.5 ms, sys: 28.6 ms, total: 121 ms\n",
      "Wall time: 5.15 s\n"
     ]
    }
   ],
   "source": [
    "print(\"One process:\")\n",
    "%time s = sample(model, 1000)\n",
    "print(\"Two processes:\")\n",
    "%time s = sample(model, 1000, processes=2)"
   ]
  },
  {
   "cell_type": "markdown",
   "metadata": {
    "deletable": true,
    "editable": true
   },
   "source": [
    "Alternatively you can also user Artificial Centering Hit-and-Run for sampling by setting the method to `arch`. `arch` does not support parallel execution but has good convergence and is almost Markovian."
   ]
  },
  {
   "cell_type": "code",
   "execution_count": 3,
   "metadata": {
    "collapsed": true,
    "deletable": true,
    "editable": true
   },
   "outputs": [],
   "source": [
    "s = sample(model, 100, method=\"arch\")"
   ]
  },
  {
   "cell_type": "markdown",
   "metadata": {
    "deletable": true,
    "editable": true
   },
   "source": [
    "In general setting up the sampler is expensive since initial search directions are generated by solving many linear programming problems. Thus, we recommend to generate as many samples as possible in one go. However, this might require finer control over the sampling procedure as described in the following section."
   ]
  },
  {
   "cell_type": "markdown",
   "metadata": {
    "deletable": true,
    "editable": true
   },
   "source": [
    "## Advanced usage"
   ]
  },
  {
   "cell_type": "markdown",
   "metadata": {
    "deletable": true,
    "editable": true
   },
   "source": [
    "### Sampler objects"
   ]
  },
  {
   "cell_type": "markdown",
   "metadata": {
    "deletable": true,
    "editable": true
   },
   "source": [
    "The sampling process can be controlled on a lower level by using the sampler classes directly."
   ]
  },
  {
   "cell_type": "code",
   "execution_count": 4,
   "metadata": {
    "collapsed": true,
    "deletable": true,
    "editable": true
   },
   "outputs": [],
   "source": [
    "from cobra.flux_analysis.sampling import OptGPSampler, ARCHSampler"
   ]
  },
  {
   "cell_type": "markdown",
   "metadata": {
    "deletable": true,
    "editable": true
   },
   "source": [
    "Both sampler classes have standardized interfaces and take some additional argument. For instance the `thinning` factor. \"Thinning\" means only recording samples every n iterations. A higher thinning factors mean less correlated samples but also larger computation times. By default the samplers use a thinning factor of 100 which creates roughly uncorrelated samples. If you want less samples but better mixing feel free to increase this parameter. If you want to study convergence for your own model you might want to set it to 1 to obtain all iterates."
   ]
  },
  {
   "cell_type": "code",
   "execution_count": 5,
   "metadata": {
    "collapsed": true,
    "deletable": true,
    "editable": true
   },
   "outputs": [],
   "source": [
    "arch = ARCHSampler(model, thinning=10)"
   ]
  },
  {
   "cell_type": "markdown",
   "metadata": {
    "deletable": true,
    "editable": true
   },
   "source": [
    "`OptGPSampler` has an additional `processes` argument specifying how many processes are used to create parallel sampling chains. This should be in the order of your CPU cores for maximum efficiency. As noted before class initialization can take up to a few minutes due to generation of initial search directions. Sampling on the other hand is quick."
   ]
  },
  {
   "cell_type": "code",
   "execution_count": 6,
   "metadata": {
    "collapsed": true,
    "deletable": true,
    "editable": true
   },
   "outputs": [],
   "source": [
    "optgp = OptGPSampler(model, processes=4)"
   ]
  },
  {
   "cell_type": "markdown",
   "metadata": {},
   "source": [
    "### Sampling and validation"
   ]
  },
  {
   "cell_type": "markdown",
   "metadata": {
    "deletable": true,
    "editable": true
   },
   "source": [
    "Both samplers have a sample function that generates samples from the initialized object and act like the `sample` function described above, only that this time it will only accept a single argument, the number of samples. For `OptGPSampler` the number of samples should be a multiple of the number of processes, otherwise it will be increased to the nearest multiple automatically."
   ]
  },
  {
   "cell_type": "code",
   "execution_count": 7,
   "metadata": {
    "collapsed": true,
    "deletable": true,
    "editable": true
   },
   "outputs": [],
   "source": [
    "s1 = arch.sample(100)\n",
    "\n",
    "s2 = optgp.sample(100)"
   ]
  },
  {
   "cell_type": "markdown",
   "metadata": {
    "deletable": true,
    "editable": true
   },
   "source": [
    "You can call `sample` repeatedly and both samplers are optimized to generate large amount of samples without falling into \"numerical traps\". All sampler objects have a `validate` function in order to check if a set of points are feasible and give detailed information about feasibility violations in a form of a short code denoting feasibility. Here the short code is a combination of any of the following letters:\n",
    "\n",
    "- \"v\" - valid point\n",
    "- \"l\" - lower bound violation\n",
    "- \"u\" - upper bound violation\n",
    "- \"e\" - equality violation (meaning the point is not a steady state)\n",
    "\n",
    "For instance for a random flux distribution (should not be feasible):"
   ]
  },
  {
   "cell_type": "code",
   "execution_count": 8,
   "metadata": {
    "collapsed": false,
    "deletable": true,
    "editable": true
   },
   "outputs": [
    {
     "data": {
      "text/plain": [
       "array(['le'], \n",
       "      dtype='<U3')"
      ]
     },
     "execution_count": 8,
     "metadata": {},
     "output_type": "execute_result"
    }
   ],
   "source": [
    "import numpy as np\n",
    "\n",
    "bad = np.random.uniform(-1000, 1000, size=len(model.reactions))\n",
    "arch.validate(np.atleast_2d(bad))"
   ]
  },
  {
   "cell_type": "markdown",
   "metadata": {
    "deletable": true,
    "editable": true
   },
   "source": [
    "And for our generated samples:"
   ]
  },
  {
   "cell_type": "code",
   "execution_count": 9,
   "metadata": {
    "collapsed": false,
    "deletable": true,
    "editable": true
   },
   "outputs": [
    {
     "data": {
      "text/plain": [
       "array(['v', 'v', 'v', 'v', 'v', 'v', 'v', 'v', 'v', 'v', 'v', 'v', 'v',\n",
       "       'v', 'v', 'v', 'v', 'v', 'v', 'v', 'v', 'v', 'v', 'v', 'v', 'v',\n",
       "       'v', 'v', 'v', 'v', 'v', 'v', 'v', 'v', 'v', 'v', 'v', 'v', 'v',\n",
       "       'v', 'v', 'v', 'v', 'v', 'v', 'v', 'v', 'v', 'v', 'v', 'v', 'v',\n",
       "       'v', 'v', 'v', 'v', 'v', 'v', 'v', 'v', 'v', 'v', 'v', 'v', 'v',\n",
       "       'v', 'v', 'v', 'v', 'v', 'v', 'v', 'v', 'v', 'v', 'v', 'v', 'v',\n",
       "       'v', 'v', 'v', 'v', 'v', 'v', 'v', 'v', 'v', 'v', 'v', 'v', 'v',\n",
       "       'v', 'v', 'v', 'v', 'v', 'v', 'v', 'v', 'v'], \n",
       "      dtype='<U3')"
      ]
     },
     "execution_count": 9,
     "metadata": {},
     "output_type": "execute_result"
    }
   ],
   "source": [
    "arch.validate(s1)"
   ]
  },
  {
   "cell_type": "markdown",
   "metadata": {
    "deletable": true,
    "editable": true
   },
   "source": [
    "### Batch sampling"
   ]
  },
  {
   "cell_type": "markdown",
   "metadata": {
    "deletable": true,
    "editable": true
   },
   "source": [
    "Sampler objects are made for generating billions of samples, however using the `sample` function might quickly fill up your RAM when working with genome-scale models. Here, the `batch` method of the sampler objects might come in handy. `batch` takes two arguments, the number of samples in each batch and the number of batches. This will make sense with a small example. \n",
    "\n",
    "Let's assume we want to quantify what proportion of our samples will grow. For that we might want to generate 10 batches of 50 samples each and measure what percentage of the individual 100 samples show a growth rate larger than 0.1. Finally, we want to calculate the mean and standard deviation of those individual percentages."
   ]
  },
  {
   "cell_type": "code",
   "execution_count": 10,
   "metadata": {
    "collapsed": false,
    "deletable": true,
    "editable": true
   },
   "outputs": [
    {
     "name": "stdout",
     "output_type": "stream",
     "text": [
      "Biomass_Ecoli_core\n"
     ]
    }
   ],
   "source": [
    "# Biomass reaction is reaction number 12\n",
    "print(model.reactions[12])"
   ]
  },
  {
   "cell_type": "code",
   "execution_count": 11,
   "metadata": {
    "collapsed": false,
    "deletable": true,
    "editable": true
   },
   "outputs": [
    {
     "name": "stdout",
     "output_type": "stream",
     "text": [
      "Usually 5.60% +- 2.65% grow...\n"
     ]
    }
   ],
   "source": [
    "counts = [np.mean(s[:, 12] > 0.1) for s in optgp.batch(100, 10)]\n",
    "print(\"Usually {:.2f}% +- {:.2f}% grow...\".format(\n",
    "    np.mean(counts) * 100.0, np.std(counts) * 100.0))"
   ]
  }
 ],
 "metadata": {
  "anaconda-cloud": {},
  "kernelspec": {
   "display_name": "Python 3",
   "language": "python",
   "name": "python3"
  },
  "language_info": {
   "codemirror_mode": {
    "name": "ipython",
    "version": 3
   },
   "file_extension": ".py",
   "mimetype": "text/x-python",
   "name": "python",
   "nbconvert_exporter": "python",
   "pygments_lexer": "ipython3",
   "version": "3.5.2"
  }
 },
 "nbformat": 4,
 "nbformat_minor": 1
}
