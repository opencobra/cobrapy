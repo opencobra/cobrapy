{
 "cells": [
  {
   "cell_type": "markdown",
   "metadata": {},
   "source": [
    "# Flux sampling"
   ]
  },
  {
   "cell_type": "markdown",
   "metadata": {},
   "source": [
    "## Basic usage"
   ]
  },
  {
   "cell_type": "markdown",
   "metadata": {},
   "source": [
    "The easiest way to get started with flux sampling is using the `sample` function in the `flux_analysis` submodule. `sample` takes at least two arguments: a cobra model and the number of samples you want to generate."
   ]
  },
  {
   "cell_type": "code",
   "execution_count": 1,
   "metadata": {
    "collapsed": false
   },
   "outputs": [
    {
     "data": {
      "text/html": [
       "<div>\n",
       "<table border=\"1\" class=\"dataframe\">\n",
       "  <thead>\n",
       "    <tr style=\"text-align: right;\">\n",
       "      <th></th>\n",
       "      <th>ACALD</th>\n",
       "      <th>ACALDt</th>\n",
       "      <th>ACKr</th>\n",
       "      <th>ACONTa</th>\n",
       "      <th>ACONTb</th>\n",
       "      <th>ACt2r</th>\n",
       "      <th>ADK1</th>\n",
       "      <th>AKGDH</th>\n",
       "      <th>AKGt2r</th>\n",
       "      <th>ALCD2x</th>\n",
       "      <th>...</th>\n",
       "      <th>RPI</th>\n",
       "      <th>SUCCt2_2</th>\n",
       "      <th>SUCCt3</th>\n",
       "      <th>SUCDi</th>\n",
       "      <th>SUCOAS</th>\n",
       "      <th>TALA</th>\n",
       "      <th>THD2</th>\n",
       "      <th>TKT1</th>\n",
       "      <th>TKT2</th>\n",
       "      <th>TPI</th>\n",
       "    </tr>\n",
       "  </thead>\n",
       "  <tbody>\n",
       "    <tr>\n",
       "      <th>0</th>\n",
       "      <td>-1.178850</td>\n",
       "      <td>-0.320232</td>\n",
       "      <td>-0.272449</td>\n",
       "      <td>10.243257</td>\n",
       "      <td>10.243257</td>\n",
       "      <td>-0.272449</td>\n",
       "      <td>2.224921</td>\n",
       "      <td>4.784288</td>\n",
       "      <td>-0.018712</td>\n",
       "      <td>-0.858617</td>\n",
       "      <td>...</td>\n",
       "      <td>-1.972200</td>\n",
       "      <td>11.329566</td>\n",
       "      <td>11.731676</td>\n",
       "      <td>123.124131</td>\n",
       "      <td>-4.784288</td>\n",
       "      <td>1.961696</td>\n",
       "      <td>5.412904</td>\n",
       "      <td>1.961696</td>\n",
       "      <td>1.957472</td>\n",
       "      <td>6.922416</td>\n",
       "    </tr>\n",
       "    <tr>\n",
       "      <th>1</th>\n",
       "      <td>-2.416852</td>\n",
       "      <td>-0.259989</td>\n",
       "      <td>-1.135790</td>\n",
       "      <td>10.000593</td>\n",
       "      <td>10.000593</td>\n",
       "      <td>-1.135790</td>\n",
       "      <td>13.128625</td>\n",
       "      <td>6.472998</td>\n",
       "      <td>-0.121168</td>\n",
       "      <td>-2.156864</td>\n",
       "      <td>...</td>\n",
       "      <td>-0.598236</td>\n",
       "      <td>9.007054</td>\n",
       "      <td>9.965535</td>\n",
       "      <td>161.981643</td>\n",
       "      <td>-6.472998</td>\n",
       "      <td>0.577321</td>\n",
       "      <td>1.521955</td>\n",
       "      <td>0.577321</td>\n",
       "      <td>0.568911</td>\n",
       "      <td>9.283538</td>\n",
       "    </tr>\n",
       "    <tr>\n",
       "      <th>2</th>\n",
       "      <td>-0.750359</td>\n",
       "      <td>-0.010754</td>\n",
       "      <td>-1.020824</td>\n",
       "      <td>10.497342</td>\n",
       "      <td>10.497342</td>\n",
       "      <td>-1.020824</td>\n",
       "      <td>2.833915</td>\n",
       "      <td>8.235925</td>\n",
       "      <td>-0.536536</td>\n",
       "      <td>-0.739605</td>\n",
       "      <td>...</td>\n",
       "      <td>-0.748569</td>\n",
       "      <td>7.961637</td>\n",
       "      <td>8.325093</td>\n",
       "      <td>309.610201</td>\n",
       "      <td>-8.235925</td>\n",
       "      <td>0.730358</td>\n",
       "      <td>4.876850</td>\n",
       "      <td>0.730358</td>\n",
       "      <td>0.723035</td>\n",
       "      <td>9.238769</td>\n",
       "    </tr>\n",
       "    <tr>\n",
       "      <th>3</th>\n",
       "      <td>-1.942355</td>\n",
       "      <td>-0.084652</td>\n",
       "      <td>-0.173589</td>\n",
       "      <td>10.440011</td>\n",
       "      <td>10.440011</td>\n",
       "      <td>-0.173589</td>\n",
       "      <td>0.010040</td>\n",
       "      <td>7.520618</td>\n",
       "      <td>-0.190567</td>\n",
       "      <td>-1.857703</td>\n",
       "      <td>...</td>\n",
       "      <td>-0.838915</td>\n",
       "      <td>7.060465</td>\n",
       "      <td>7.868009</td>\n",
       "      <td>312.437262</td>\n",
       "      <td>-7.520618</td>\n",
       "      <td>0.813028</td>\n",
       "      <td>4.239887</td>\n",
       "      <td>0.813028</td>\n",
       "      <td>0.802618</td>\n",
       "      <td>8.762697</td>\n",
       "    </tr>\n",
       "    <tr>\n",
       "      <th>4</th>\n",
       "      <td>-0.071480</td>\n",
       "      <td>-0.012750</td>\n",
       "      <td>-2.035411</td>\n",
       "      <td>11.951297</td>\n",
       "      <td>11.951297</td>\n",
       "      <td>-2.035411</td>\n",
       "      <td>19.086657</td>\n",
       "      <td>9.030340</td>\n",
       "      <td>-0.170290</td>\n",
       "      <td>-0.058730</td>\n",
       "      <td>...</td>\n",
       "      <td>-1.013284</td>\n",
       "      <td>30.209397</td>\n",
       "      <td>30.226259</td>\n",
       "      <td>345.302336</td>\n",
       "      <td>-9.030340</td>\n",
       "      <td>1.003938</td>\n",
       "      <td>44.770608</td>\n",
       "      <td>1.003938</td>\n",
       "      <td>1.000179</td>\n",
       "      <td>7.526600</td>\n",
       "    </tr>\n",
       "  </tbody>\n",
       "</table>\n",
       "<p>5 rows × 95 columns</p>\n",
       "</div>"
      ],
      "text/plain": [
       "      ACALD    ACALDt      ACKr     ACONTa     ACONTb     ACt2r       ADK1  \\\n",
       "0 -1.178850 -0.320232 -0.272449  10.243257  10.243257 -0.272449   2.224921   \n",
       "1 -2.416852 -0.259989 -1.135790  10.000593  10.000593 -1.135790  13.128625   \n",
       "2 -0.750359 -0.010754 -1.020824  10.497342  10.497342 -1.020824   2.833915   \n",
       "3 -1.942355 -0.084652 -0.173589  10.440011  10.440011 -0.173589   0.010040   \n",
       "4 -0.071480 -0.012750 -2.035411  11.951297  11.951297 -2.035411  19.086657   \n",
       "\n",
       "      AKGDH    AKGt2r    ALCD2x    ...          RPI   SUCCt2_2     SUCCt3  \\\n",
       "0  4.784288 -0.018712 -0.858617    ...    -1.972200  11.329566  11.731676   \n",
       "1  6.472998 -0.121168 -2.156864    ...    -0.598236   9.007054   9.965535   \n",
       "2  8.235925 -0.536536 -0.739605    ...    -0.748569   7.961637   8.325093   \n",
       "3  7.520618 -0.190567 -1.857703    ...    -0.838915   7.060465   7.868009   \n",
       "4  9.030340 -0.170290 -0.058730    ...    -1.013284  30.209397  30.226259   \n",
       "\n",
       "        SUCDi    SUCOAS      TALA       THD2      TKT1      TKT2       TPI  \n",
       "0  123.124131 -4.784288  1.961696   5.412904  1.961696  1.957472  6.922416  \n",
       "1  161.981643 -6.472998  0.577321   1.521955  0.577321  0.568911  9.283538  \n",
       "2  309.610201 -8.235925  0.730358   4.876850  0.730358  0.723035  9.238769  \n",
       "3  312.437262 -7.520618  0.813028   4.239887  0.813028  0.802618  8.762697  \n",
       "4  345.302336 -9.030340  1.003938  44.770608  1.003938  1.000179  7.526600  \n",
       "\n",
       "[5 rows x 95 columns]"
      ]
     },
     "execution_count": 1,
     "metadata": {},
     "output_type": "execute_result"
    }
   ],
   "source": [
    "from cobra.test import create_test_model\n",
    "from cobra.flux_analysis import sample\n",
    "\n",
    "model = create_test_model(\"textbook\")\n",
    "s = sample(model, 100)\n",
    "s.head()"
   ]
  },
  {
   "cell_type": "markdown",
   "metadata": {},
   "source": [
    "By default sample uses the `optgp` method based on the [method presented here](http://dx.doi.org/10.1371/journal.pone.0086587) as it is suited for larger models and can run in parallel. By default the sampler uses a single process. This can be changed by using the `processes` argument."
   ]
  },
  {
   "cell_type": "code",
   "execution_count": 2,
   "metadata": {
    "collapsed": false
   },
   "outputs": [
    {
     "name": "stdout",
     "output_type": "stream",
     "text": [
      "One process:\n",
      "CPU times: user 6.54 s, sys: 53.5 ms, total: 6.6 s\n",
      "Wall time: 6.68 s\n",
      "Two processes:\n",
      "CPU times: user 46.3 ms, sys: 20.2 ms, total: 66.5 ms\n",
      "Wall time: 3.45 s\n"
     ]
    }
   ],
   "source": [
    "print(\"One process:\")\n",
    "%time s = sample(model, 1000)\n",
    "print(\"Two processes:\")\n",
    "%time s = sample(model, 1000, processes=2)"
   ]
  },
  {
   "cell_type": "markdown",
   "metadata": {},
   "source": [
    "Alternatively you can also user Artificial Centering Hit-and-Run for sampling by setting the method to `arch`. `arch` does not support parallel execution but has good convergence and is almost markovian."
   ]
  },
  {
   "cell_type": "code",
   "execution_count": 3,
   "metadata": {
    "collapsed": true
   },
   "outputs": [],
   "source": [
    "s = sample(model, 100, method=\"arch\")"
   ]
  },
  {
   "cell_type": "markdown",
   "metadata": {},
   "source": [
    "In general setting up the sampler is expensive since initial search directions are generated by solving many linear programming problems. Thus, we recommend to generate as many samples as possible in one go. However, this might require finer control over the sampling procedure as described in the following section."
   ]
  },
  {
   "cell_type": "markdown",
   "metadata": {},
   "source": [
    "## Advanced usage"
   ]
  },
  {
   "cell_type": "markdown",
   "metadata": {},
   "source": [
    "### Sampler objects"
   ]
  },
  {
   "cell_type": "markdown",
   "metadata": {},
   "source": [
    "The sampling process can be controlled on a lower level by using the sampler classes directly."
   ]
  },
  {
   "cell_type": "code",
   "execution_count": 4,
   "metadata": {
    "collapsed": true
   },
   "outputs": [],
   "source": [
    "from cobra.flux_analysis.sampling import OptGPSampler, ARCHSampler"
   ]
  },
  {
   "cell_type": "markdown",
   "metadata": {},
   "source": [
    "Both sampler classes have standardized interfaces and take some additional argument. For instance the `thinning` factor. \"Thinning\" means only recording samples every n iterations. A higher thinning factors mean less correlated samples but also larger computation times. By default the samplers use a thinning factor of 100 which creates roughly uncorrelated samples. If you want less samples but better mixing feel free to increase this parameter. If you want to study convergence for your own model you might want to set it to 1 to obtain all iterates."
   ]
  },
  {
   "cell_type": "code",
   "execution_count": 5,
   "metadata": {
    "collapsed": true
   },
   "outputs": [],
   "source": [
    "arch = ARCHSampler(model, thinning=10)"
   ]
  },
  {
   "cell_type": "markdown",
   "metadata": {},
   "source": [
    "`OptGPSampler` has an additional `processes` argument specifying how many processes are used to create parallel sampling chains. This should be in the order of your CPU cores for maximum efficiency. As noted before class initialization can take up to a few minutes due to generation of initial search directions. Sampling on the other hand is quick."
   ]
  },
  {
   "cell_type": "code",
   "execution_count": 6,
   "metadata": {
    "collapsed": true
   },
   "outputs": [],
   "source": [
    "optgp = OptGPSampler(model, processes=4)"
   ]
  },
  {
   "cell_type": "markdown",
   "metadata": {},
   "source": [
    "### Sampling and validation\n",
    "\n",
    "Both samplers have a sample function that generates samples from the intialized object and act like the `sample` function described above, only that this time it will oncly accept a single argument, the number of samples. For `OptGPSampler` the number of samples should be a mutiple of the number of processes, otherwise it will be increased to the nearest multiple automatically."
   ]
  },
  {
   "cell_type": "code",
   "execution_count": 7,
   "metadata": {
    "collapsed": true
   },
   "outputs": [],
   "source": [
    "s1 = arch.sample(100)\n",
    "\n",
    "s2 = optgp.sample(100)"
   ]
  },
  {
   "cell_type": "markdown",
   "metadata": {},
   "source": [
    "You can call `sample` repeatedly and both samplers are optimized to generate large amount of samples without falling into \"numerical traps\". All sampler objects have a `validate` function in order to check if a set of points are feasible and give detailed information about feasibility violations in a form of a short code denoting feasibility. Here the short code is a combination of any of the following letters:\n",
    "\n",
    "- \"v\" - valid point\n",
    "- \"l\" - lower bound violation\n",
    "- \"u\" - upper bound violation\n",
    "- \"e\" - equality violation (meaning the point is not a steady state)\n",
    "\n",
    "For instance for a random flux distribution (should not be feasible):"
   ]
  },
  {
   "cell_type": "code",
   "execution_count": 8,
   "metadata": {
    "collapsed": false
   },
   "outputs": [
    {
     "data": {
      "text/plain": [
       "array(['le'], \n",
       "      dtype='<U3')"
      ]
     },
     "execution_count": 8,
     "metadata": {},
     "output_type": "execute_result"
    }
   ],
   "source": [
    "import numpy as np\n",
    "\n",
    "bad = np.random.uniform(-1000, 1000, size=len(model.reactions))\n",
    "arch.validate(np.atleast_2d(bad))"
   ]
  },
  {
   "cell_type": "markdown",
   "metadata": {},
   "source": [
    "And for our generated samples:"
   ]
  },
  {
   "cell_type": "code",
   "execution_count": 9,
   "metadata": {
    "collapsed": false
   },
   "outputs": [
    {
     "data": {
      "text/plain": [
       "array(['v', 'v', 'v', 'v', 'v', 'v', 'v', 'v', 'v', 'v', 'v', 'v', 'v',\n",
       "       'v', 'v', 'v', 'v', 'v', 'v', 'v', 'v', 'v', 'v', 'v', 'v', 'v',\n",
       "       'v', 'v', 'v', 'v', 'v', 'v', 'v', 'v', 'v', 'v', 'v', 'v', 'v',\n",
       "       'v', 'v', 'v', 'v', 'v', 'v', 'v', 'v', 'v', 'v', 'v', 'v', 'v',\n",
       "       'v', 'v', 'v', 'v', 'v', 'v', 'v', 'v', 'v', 'v', 'v', 'v', 'v',\n",
       "       'v', 'v', 'v', 'v', 'v', 'v', 'v', 'v', 'v', 'v', 'v', 'v', 'v',\n",
       "       'v', 'v', 'v', 'v', 'v', 'v', 'v', 'v', 'v', 'v', 'v', 'v', 'v',\n",
       "       'v', 'v', 'v', 'v', 'v', 'v', 'v', 'v', 'v'], \n",
       "      dtype='<U3')"
      ]
     },
     "execution_count": 9,
     "metadata": {},
     "output_type": "execute_result"
    }
   ],
   "source": [
    "arch.validate(s1)"
   ]
  },
  {
   "cell_type": "markdown",
   "metadata": {},
   "source": [
    "### Batch sampling"
   ]
  },
  {
   "cell_type": "markdown",
   "metadata": {},
   "source": [
    "Sampler objects are made for generating billions of samples, however using the `sample` function might quickly fill up your RAM when working with genome-scale models. Here, the `batch` method of the sampler objects might come in handy. `batch` takes two arguments, the number of samples in each badge and the number of batches. This will make for sense with a small example. \n",
    "\n",
    "Let's assume we want to qunatify what proportion of our samples will grow. For that we might want to generate 10 batches of 50 samples each and measure what percentage of the individual 100 samples show a growth rate larger than 0.1. Finally, we want to calculate the mean and standard deviation of those individual percentages."
   ]
  },
  {
   "cell_type": "code",
   "execution_count": 10,
   "metadata": {
    "collapsed": false
   },
   "outputs": [
    {
     "name": "stdout",
     "output_type": "stream",
     "text": [
      "Biomass_Ecoli_core\n"
     ]
    }
   ],
   "source": [
    "# Biomass reaction is reaction number 12\n",
    "print(model.reactions[12])"
   ]
  },
  {
   "cell_type": "code",
   "execution_count": 11,
   "metadata": {
    "collapsed": false
   },
   "outputs": [
    {
     "name": "stdout",
     "output_type": "stream",
     "text": [
      "Usually 6.10% +- 1.14% grow...\n"
     ]
    }
   ],
   "source": [
    "counts = [np.mean(s[:, 12] > 0.1) for s in optgp.batch(100, 10)]\n",
    "print(\"Usually {:.2f}% +- {:.2f}% grow...\".format(np.mean(counts) * 100.0, np.std(counts) * 100.0))"
   ]
  }
 ],
 "metadata": {
  "anaconda-cloud": {},
  "kernelspec": {
   "display_name": "Python 3",
   "language": "python",
   "name": "python3"
  },
  "language_info": {
   "codemirror_mode": {
    "name": "ipython",
    "version": 3
   },
   "file_extension": ".py",
   "mimetype": "text/x-python",
   "name": "python",
   "nbconvert_exporter": "python",
   "pygments_lexer": "ipython3",
   "version": "3.5.2"
  }
 },
 "nbformat": 4,
 "nbformat_minor": 1
}
