{
 "cells": [
  {
   "cell_type": "markdown",
   "metadata": {
    "deletable": true,
    "editable": true
   },
   "source": [
    "# Flux sampling"
   ]
  },
  {
   "cell_type": "markdown",
   "metadata": {
    "deletable": true,
    "editable": true
   },
   "source": [
    "## Basic usage"
   ]
  },
  {
   "cell_type": "markdown",
   "metadata": {
    "deletable": true,
    "editable": true
   },
   "source": [
    "The easiest way to get started with flux sampling is using the `sample` function in the `flux_analysis` submodule. `sample` takes at least two arguments: a cobra model and the number of samples you want to generate."
   ]
  },
  {
   "cell_type": "code",
   "execution_count": 1,
   "metadata": {
    "collapsed": false,
    "deletable": true,
    "editable": true
   },
   "outputs": [
    {
     "name": "stderr",
     "output_type": "stream",
     "text": [
      "/home/moritz/.virtualenvs/cobra/lib/python3.5/site-packages/optlang/gurobi_interface.py:26: UserWarning: Be careful! The GUROBI interface is still under construction ...\n",
      "  warn(\"Be careful! The GUROBI interface is still under construction ...\")\n"
     ]
    },
    {
     "data": {
      "text/html": [
       "<div>\n",
       "<table border=\"1\" class=\"dataframe\">\n",
       "  <thead>\n",
       "    <tr style=\"text-align: right;\">\n",
       "      <th></th>\n",
       "      <th>ACALD</th>\n",
       "      <th>ACALDt</th>\n",
       "      <th>ACKr</th>\n",
       "      <th>ACONTa</th>\n",
       "      <th>ACONTb</th>\n",
       "      <th>ACt2r</th>\n",
       "      <th>ADK1</th>\n",
       "      <th>AKGDH</th>\n",
       "      <th>AKGt2r</th>\n",
       "      <th>ALCD2x</th>\n",
       "      <th>...</th>\n",
       "      <th>RPI</th>\n",
       "      <th>SUCCt2_2</th>\n",
       "      <th>SUCCt3</th>\n",
       "      <th>SUCDi</th>\n",
       "      <th>SUCOAS</th>\n",
       "      <th>TALA</th>\n",
       "      <th>THD2</th>\n",
       "      <th>TKT1</th>\n",
       "      <th>TKT2</th>\n",
       "      <th>TPI</th>\n",
       "    </tr>\n",
       "  </thead>\n",
       "  <tbody>\n",
       "    <tr>\n",
       "      <th>0</th>\n",
       "      <td>-0.291556</td>\n",
       "      <td>-0.194709</td>\n",
       "      <td>-2.359507</td>\n",
       "      <td>9.759692</td>\n",
       "      <td>9.759692</td>\n",
       "      <td>-2.359507</td>\n",
       "      <td>12.066529</td>\n",
       "      <td>4.969962</td>\n",
       "      <td>-3.643735</td>\n",
       "      <td>-0.096847</td>\n",
       "      <td>...</td>\n",
       "      <td>-0.188677</td>\n",
       "      <td>7.998656</td>\n",
       "      <td>8.076692</td>\n",
       "      <td>717.081281</td>\n",
       "      <td>-4.969962</td>\n",
       "      <td>0.058297</td>\n",
       "      <td>1.711138</td>\n",
       "      <td>0.058297</td>\n",
       "      <td>0.005867</td>\n",
       "      <td>9.659238</td>\n",
       "    </tr>\n",
       "    <tr>\n",
       "      <th>1</th>\n",
       "      <td>-0.138311</td>\n",
       "      <td>-0.047694</td>\n",
       "      <td>-1.892554</td>\n",
       "      <td>9.672063</td>\n",
       "      <td>9.672063</td>\n",
       "      <td>-1.892554</td>\n",
       "      <td>33.199472</td>\n",
       "      <td>6.168586</td>\n",
       "      <td>-0.053427</td>\n",
       "      <td>-0.090617</td>\n",
       "      <td>...</td>\n",
       "      <td>-2.099542</td>\n",
       "      <td>1.506340</td>\n",
       "      <td>2.366091</td>\n",
       "      <td>622.923863</td>\n",
       "      <td>-6.168586</td>\n",
       "      <td>2.030610</td>\n",
       "      <td>38.034517</td>\n",
       "      <td>2.030610</td>\n",
       "      <td>2.002889</td>\n",
       "      <td>7.701617</td>\n",
       "    </tr>\n",
       "    <tr>\n",
       "      <th>2</th>\n",
       "      <td>-0.580313</td>\n",
       "      <td>-0.278247</td>\n",
       "      <td>-0.404753</td>\n",
       "      <td>11.999287</td>\n",
       "      <td>11.999287</td>\n",
       "      <td>-0.404753</td>\n",
       "      <td>38.805878</td>\n",
       "      <td>8.594194</td>\n",
       "      <td>-0.393892</td>\n",
       "      <td>-0.302066</td>\n",
       "      <td>...</td>\n",
       "      <td>-0.386299</td>\n",
       "      <td>3.375453</td>\n",
       "      <td>3.839394</td>\n",
       "      <td>671.972932</td>\n",
       "      <td>-8.594194</td>\n",
       "      <td>0.372344</td>\n",
       "      <td>42.368459</td>\n",
       "      <td>0.372344</td>\n",
       "      <td>0.366733</td>\n",
       "      <td>9.189918</td>\n",
       "    </tr>\n",
       "    <tr>\n",
       "      <th>3</th>\n",
       "      <td>-1.071017</td>\n",
       "      <td>-0.673946</td>\n",
       "      <td>-0.306338</td>\n",
       "      <td>6.295152</td>\n",
       "      <td>6.295152</td>\n",
       "      <td>-0.306338</td>\n",
       "      <td>18.968824</td>\n",
       "      <td>3.758716</td>\n",
       "      <td>-0.876761</td>\n",
       "      <td>-0.397071</td>\n",
       "      <td>...</td>\n",
       "      <td>-1.453765</td>\n",
       "      <td>1.831685</td>\n",
       "      <td>2.327740</td>\n",
       "      <td>533.970769</td>\n",
       "      <td>-3.758716</td>\n",
       "      <td>1.450092</td>\n",
       "      <td>13.625763</td>\n",
       "      <td>1.450092</td>\n",
       "      <td>1.448616</td>\n",
       "      <td>7.426540</td>\n",
       "    </tr>\n",
       "    <tr>\n",
       "      <th>4</th>\n",
       "      <td>-2.095375</td>\n",
       "      <td>-0.734578</td>\n",
       "      <td>-0.010589</td>\n",
       "      <td>12.770724</td>\n",
       "      <td>12.770724</td>\n",
       "      <td>-0.010589</td>\n",
       "      <td>9.633019</td>\n",
       "      <td>10.254673</td>\n",
       "      <td>-0.282577</td>\n",
       "      <td>-1.360797</td>\n",
       "      <td>...</td>\n",
       "      <td>-1.166260</td>\n",
       "      <td>54.370578</td>\n",
       "      <td>55.070421</td>\n",
       "      <td>616.680319</td>\n",
       "      <td>-10.254673</td>\n",
       "      <td>1.161119</td>\n",
       "      <td>6.521790</td>\n",
       "      <td>1.161119</td>\n",
       "      <td>1.159052</td>\n",
       "      <td>8.796084</td>\n",
       "    </tr>\n",
       "  </tbody>\n",
       "</table>\n",
       "<p>5 rows × 95 columns</p>\n",
       "</div>"
      ],
      "text/plain": [
       "      ACALD    ACALDt      ACKr     ACONTa     ACONTb     ACt2r       ADK1  \\\n",
       "0 -0.291556 -0.194709 -2.359507   9.759692   9.759692 -2.359507  12.066529   \n",
       "1 -0.138311 -0.047694 -1.892554   9.672063   9.672063 -1.892554  33.199472   \n",
       "2 -0.580313 -0.278247 -0.404753  11.999287  11.999287 -0.404753  38.805878   \n",
       "3 -1.071017 -0.673946 -0.306338   6.295152   6.295152 -0.306338  18.968824   \n",
       "4 -2.095375 -0.734578 -0.010589  12.770724  12.770724 -0.010589   9.633019   \n",
       "\n",
       "       AKGDH    AKGt2r    ALCD2x    ...          RPI   SUCCt2_2     SUCCt3  \\\n",
       "0   4.969962 -3.643735 -0.096847    ...    -0.188677   7.998656   8.076692   \n",
       "1   6.168586 -0.053427 -0.090617    ...    -2.099542   1.506340   2.366091   \n",
       "2   8.594194 -0.393892 -0.302066    ...    -0.386299   3.375453   3.839394   \n",
       "3   3.758716 -0.876761 -0.397071    ...    -1.453765   1.831685   2.327740   \n",
       "4  10.254673 -0.282577 -1.360797    ...    -1.166260  54.370578  55.070421   \n",
       "\n",
       "        SUCDi     SUCOAS      TALA       THD2      TKT1      TKT2       TPI  \n",
       "0  717.081281  -4.969962  0.058297   1.711138  0.058297  0.005867  9.659238  \n",
       "1  622.923863  -6.168586  2.030610  38.034517  2.030610  2.002889  7.701617  \n",
       "2  671.972932  -8.594194  0.372344  42.368459  0.372344  0.366733  9.189918  \n",
       "3  533.970769  -3.758716  1.450092  13.625763  1.450092  1.448616  7.426540  \n",
       "4  616.680319 -10.254673  1.161119   6.521790  1.161119  1.159052  8.796084  \n",
       "\n",
       "[5 rows x 95 columns]"
      ]
     },
     "execution_count": 1,
     "metadata": {},
     "output_type": "execute_result"
    }
   ],
   "source": [
    "from cobra.test import create_test_model\n",
    "from cobra.flux_analysis import sample\n",
    "\n",
    "model = create_test_model(\"textbook\")\n",
    "s = sample(model, 100)\n",
    "s.head()"
   ]
  },
  {
   "cell_type": "markdown",
   "metadata": {
    "deletable": true,
    "editable": true
   },
   "source": [
    "By default sample uses the `optgp` method based on the [method presented here](http://dx.doi.org/10.1371/journal.pone.0086587) as it is suited for larger models and can run in parallel. By default the sampler uses a single process. This can be changed by using the `processes` argument."
   ]
  },
  {
   "cell_type": "code",
   "execution_count": 2,
   "metadata": {
    "collapsed": false,
    "deletable": true,
    "editable": true
   },
   "outputs": [
    {
     "name": "stdout",
     "output_type": "stream",
     "text": [
      "One process:\n",
      "CPU times: user 5.37 s, sys: 568 ms, total: 5.94 s\n",
      "Wall time: 5.3 s\n",
      "Two processes:\n",
      "CPU times: user 56 ms, sys: 192 ms, total: 248 ms\n",
      "Wall time: 2.66 s\n"
     ]
    }
   ],
   "source": [
    "print(\"One process:\")\n",
    "%time s = sample(model, 1000)\n",
    "print(\"Two processes:\")\n",
    "%time s = sample(model, 1000, processes=2)"
   ]
  },
  {
   "cell_type": "markdown",
   "metadata": {
    "deletable": true,
    "editable": true
   },
   "source": [
    "Alternatively you can also user Artificial Centering Hit-and-Run for sampling by setting the method to `arch`. `arch` does not support parallel execution but has good convergence and is almost Markovian."
   ]
  },
  {
   "cell_type": "code",
   "execution_count": 3,
   "metadata": {
    "collapsed": true,
    "deletable": true,
    "editable": true
   },
   "outputs": [],
   "source": [
    "s = sample(model, 100, method=\"arch\")"
   ]
  },
  {
   "cell_type": "markdown",
   "metadata": {
    "deletable": true,
    "editable": true
   },
   "source": [
    "In general setting up the sampler is expensive since initial search directions are generated by solving many linear programming problems. Thus, we recommend to generate as many samples as possible in one go. However, this might require finer control over the sampling procedure as described in the following section."
   ]
  },
  {
   "cell_type": "markdown",
   "metadata": {
    "deletable": true,
    "editable": true
   },
   "source": [
    "## Advanced usage"
   ]
  },
  {
   "cell_type": "markdown",
   "metadata": {
    "deletable": true,
    "editable": true
   },
   "source": [
    "### Sampler objects"
   ]
  },
  {
   "cell_type": "markdown",
   "metadata": {
    "deletable": true,
    "editable": true
   },
   "source": [
    "The sampling process can be controlled on a lower level by using the sampler classes directly."
   ]
  },
  {
   "cell_type": "code",
   "execution_count": 4,
   "metadata": {
    "collapsed": true,
    "deletable": true,
    "editable": true
   },
   "outputs": [],
   "source": [
    "from cobra.flux_analysis.sampling import OptGPSampler, ARCHSampler"
   ]
  },
  {
   "cell_type": "markdown",
   "metadata": {
    "deletable": true,
    "editable": true
   },
   "source": [
    "Both sampler classes have standardized interfaces and take some additional argument. For instance the `thinning` factor. \"Thinning\" means only recording samples every n iterations. A higher thinning factors mean less correlated samples but also larger computation times. By default the samplers use a thinning factor of 100 which creates roughly uncorrelated samples. If you want less samples but better mixing feel free to increase this parameter. If you want to study convergence for your own model you might want to set it to 1 to obtain all iterates."
   ]
  },
  {
   "cell_type": "code",
   "execution_count": 5,
   "metadata": {
    "collapsed": true,
    "deletable": true,
    "editable": true
   },
   "outputs": [],
   "source": [
    "arch = ARCHSampler(model, thinning=10)"
   ]
  },
  {
   "cell_type": "markdown",
   "metadata": {
    "deletable": true,
    "editable": true
   },
   "source": [
    "`OptGPSampler` has an additional `processes` argument specifying how many processes are used to create parallel sampling chains. This should be in the order of your CPU cores for maximum efficiency. As noted before class initialization can take up to a few minutes due to generation of initial search directions. Sampling on the other hand is quick."
   ]
  },
  {
   "cell_type": "code",
   "execution_count": 6,
   "metadata": {
    "collapsed": true,
    "deletable": true,
    "editable": true
   },
   "outputs": [],
   "source": [
    "optgp = OptGPSampler(model, processes=4)"
   ]
  },
  {
   "cell_type": "markdown",
   "metadata": {},
   "source": [
    "### Sampling and validation"
   ]
  },
  {
   "cell_type": "markdown",
   "metadata": {
    "deletable": true,
    "editable": true
   },
   "source": [
    "Both samplers have a sample function that generates samples from the initialized object and act like the `sample` function described above, only that this time it will only accept a single argument, the number of samples. For `OptGPSampler` the number of samples should be a multiple of the number of processes, otherwise it will be increased to the nearest multiple automatically."
   ]
  },
  {
   "cell_type": "code",
   "execution_count": 7,
   "metadata": {
    "collapsed": true,
    "deletable": true,
    "editable": true
   },
   "outputs": [],
   "source": [
    "s1 = arch.sample(100)\n",
    "\n",
    "s2 = optgp.sample(100)"
   ]
  },
  {
   "cell_type": "markdown",
   "metadata": {
    "deletable": true,
    "editable": true
   },
   "source": [
    "You can call `sample` repeatedly and both samplers are optimized to generate large amount of samples without falling into \"numerical traps\". All sampler objects have a `validate` function in order to check if a set of points are feasible and give detailed information about feasibility violations in a form of a short code denoting feasibility. Here the short code is a combination of any of the following letters:\n",
    "\n",
    "- \"v\" - valid point\n",
    "- \"l\" - lower bound violation\n",
    "- \"u\" - upper bound violation\n",
    "- \"e\" - equality violation (meaning the point is not a steady state)\n",
    "\n",
    "For instance for a random flux distribution (should not be feasible):"
   ]
  },
  {
   "cell_type": "code",
   "execution_count": 8,
   "metadata": {
    "collapsed": false,
    "deletable": true,
    "editable": true
   },
   "outputs": [
    {
     "data": {
      "text/plain": [
       "array(['le'], \n",
       "      dtype='<U3')"
      ]
     },
     "execution_count": 8,
     "metadata": {},
     "output_type": "execute_result"
    }
   ],
   "source": [
    "import numpy as np\n",
    "\n",
    "bad = np.random.uniform(-1000, 1000, size=len(model.reactions))\n",
    "arch.validate(np.atleast_2d(bad))"
   ]
  },
  {
   "cell_type": "markdown",
   "metadata": {
    "deletable": true,
    "editable": true
   },
   "source": [
    "And for our generated samples:"
   ]
  },
  {
   "cell_type": "code",
   "execution_count": 9,
   "metadata": {
    "collapsed": false,
    "deletable": true,
    "editable": true
   },
   "outputs": [
    {
     "data": {
      "text/plain": [
       "array(['v', 'v', 'v', 'v', 'v', 'v', 'v', 'v', 'v', 'v', 'v', 'v', 'v',\n",
       "       'v', 'v', 'v', 'v', 'v', 'v', 'v', 'v', 'v', 'v', 'v', 'v', 'v',\n",
       "       'v', 'v', 'v', 'v', 'v', 'v', 'v', 'v', 'v', 'v', 'v', 'v', 'v',\n",
       "       'v', 'v', 'v', 'v', 'v', 'v', 'v', 'v', 'v', 'v', 'v', 'v', 'v',\n",
       "       'v', 'v', 'v', 'v', 'v', 'v', 'v', 'v', 'v', 'v', 'v', 'v', 'v',\n",
       "       'v', 'v', 'v', 'v', 'v', 'v', 'v', 'v', 'v', 'v', 'v', 'v', 'v',\n",
       "       'v', 'v', 'v', 'v', 'v', 'v', 'v', 'v', 'v', 'v', 'v', 'v', 'v',\n",
       "       'v', 'v', 'v', 'v', 'v', 'v', 'v', 'v', 'v'], \n",
       "      dtype='<U3')"
      ]
     },
     "execution_count": 9,
     "metadata": {},
     "output_type": "execute_result"
    }
   ],
   "source": [
    "arch.validate(s1)"
   ]
  },
  {
   "cell_type": "markdown",
   "metadata": {
    "deletable": true,
    "editable": true
   },
   "source": [
    "### Batch sampling"
   ]
  },
  {
   "cell_type": "markdown",
   "metadata": {
    "deletable": true,
    "editable": true
   },
   "source": [
    "Sampler objects are made for generating billions of samples, however using the `sample` function might quickly fill up your RAM when working with genome-scale models. Here, the `batch` method of the sampler objects might come in handy. `batch` takes two arguments, the number of samples in each batch and the number of batches. This will make sense with a small example. \n",
    "\n",
    "Let's assume we want to quantify what proportion of our samples will grow. For that we might want to generate 10 batches of 50 samples each and measure what percentage of the individual 100 samples show a growth rate larger than 0.1. Finally, we want to calculate the mean and standard deviation of those individual percentages."
   ]
  },
  {
   "cell_type": "code",
   "execution_count": 10,
   "metadata": {
    "collapsed": false,
    "deletable": true,
    "editable": true
   },
   "outputs": [
    {
     "name": "stdout",
     "output_type": "stream",
     "text": [
      "Biomass_Ecoli_core\n"
     ]
    }
   ],
   "source": [
    "# Biomass reaction is reaction number 12\n",
    "print(model.reactions[12])"
   ]
  },
  {
   "cell_type": "code",
   "execution_count": 11,
   "metadata": {
    "collapsed": false,
    "deletable": true,
    "editable": true
   },
   "outputs": [
    {
     "name": "stdout",
     "output_type": "stream",
     "text": [
      "Usually 6.70% +- 0.78% grow...\n"
     ]
    }
   ],
   "source": [
    "counts = [np.mean(s[:, 12] > 0.1) for s in optgp.batch(100, 10)]\n",
    "print(\"Usually {:.2f}% +- {:.2f}% grow...\".format(\n",
    "    np.mean(counts) * 100.0, np.std(counts) * 100.0))"
   ]
  }
 ],
 "metadata": {
  "anaconda-cloud": {},
  "kernelspec": {
   "display_name": "Python 3",
   "language": "python",
   "name": "python3"
  },
  "language_info": {
   "codemirror_mode": {
    "name": "ipython",
    "version": 3
   },
   "file_extension": ".py",
   "mimetype": "text/x-python",
   "name": "python",
   "nbconvert_exporter": "python",
   "pygments_lexer": "ipython3",
   "version": "3.5.2+"
  }
 },
 "nbformat": 4,
 "nbformat_minor": 1
}
